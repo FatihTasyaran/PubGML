{
 "cells": [
  {
   "cell_type": "code",
   "execution_count": 1,
   "metadata": {
    "collapsed": true
   },
   "outputs": [],
   "source": [
    "import pandas as pd \n",
    "import numpy as py\n",
    "import matplotlib.pyplot as plt\n",
    "import seaborn as sns\n",
    "from scipy.stats.mstats import mode\n",
    "\n",
    "%matplotlib inline"
   ]
  },
  {
   "cell_type": "code",
   "execution_count": 2,
   "metadata": {
    "collapsed": true
   },
   "outputs": [],
   "source": [
    "aggregate = pd.read_csv('agg_match_stats_0.csv')"
   ]
  },
  {
   "cell_type": "code",
   "execution_count": 3,
   "metadata": {},
   "outputs": [
    {
     "data": {
      "text/html": [
       "<div>\n",
       "<style>\n",
       "    .dataframe thead tr:only-child th {\n",
       "        text-align: right;\n",
       "    }\n",
       "\n",
       "    .dataframe thead th {\n",
       "        text-align: left;\n",
       "    }\n",
       "\n",
       "    .dataframe tbody tr th {\n",
       "        vertical-align: top;\n",
       "    }\n",
       "</style>\n",
       "<table border=\"1\" class=\"dataframe\">\n",
       "  <thead>\n",
       "    <tr style=\"text-align: right;\">\n",
       "      <th></th>\n",
       "      <th>date</th>\n",
       "      <th>game_size</th>\n",
       "      <th>match_id</th>\n",
       "      <th>match_mode</th>\n",
       "      <th>party_size</th>\n",
       "      <th>player_assists</th>\n",
       "      <th>player_dbno</th>\n",
       "      <th>player_dist_ride</th>\n",
       "      <th>player_dist_walk</th>\n",
       "      <th>player_dmg</th>\n",
       "      <th>player_kills</th>\n",
       "      <th>player_name</th>\n",
       "      <th>player_survive_time</th>\n",
       "      <th>team_id</th>\n",
       "      <th>team_placement</th>\n",
       "    </tr>\n",
       "  </thead>\n",
       "  <tbody>\n",
       "    <tr>\n",
       "      <th>0</th>\n",
       "      <td>2017-11-26T20:59:40+0000</td>\n",
       "      <td>37</td>\n",
       "      <td>2U4GBNA0YmnNZYkzjkfgN4ev-hXSrak_BSey_YEG6kIuDG...</td>\n",
       "      <td>tpp</td>\n",
       "      <td>2</td>\n",
       "      <td>0</td>\n",
       "      <td>1</td>\n",
       "      <td>2870.72400</td>\n",
       "      <td>1784.847780</td>\n",
       "      <td>117</td>\n",
       "      <td>1</td>\n",
       "      <td>SnuffIes</td>\n",
       "      <td>1106.320</td>\n",
       "      <td>4</td>\n",
       "      <td>18</td>\n",
       "    </tr>\n",
       "    <tr>\n",
       "      <th>1</th>\n",
       "      <td>2017-11-26T20:59:40+0000</td>\n",
       "      <td>37</td>\n",
       "      <td>2U4GBNA0YmnNZYkzjkfgN4ev-hXSrak_BSey_YEG6kIuDG...</td>\n",
       "      <td>tpp</td>\n",
       "      <td>2</td>\n",
       "      <td>0</td>\n",
       "      <td>1</td>\n",
       "      <td>2938.40723</td>\n",
       "      <td>1756.079710</td>\n",
       "      <td>127</td>\n",
       "      <td>1</td>\n",
       "      <td>Ozon3r</td>\n",
       "      <td>1106.315</td>\n",
       "      <td>4</td>\n",
       "      <td>18</td>\n",
       "    </tr>\n",
       "    <tr>\n",
       "      <th>2</th>\n",
       "      <td>2017-11-26T20:59:40+0000</td>\n",
       "      <td>37</td>\n",
       "      <td>2U4GBNA0YmnNZYkzjkfgN4ev-hXSrak_BSey_YEG6kIuDG...</td>\n",
       "      <td>tpp</td>\n",
       "      <td>2</td>\n",
       "      <td>0</td>\n",
       "      <td>0</td>\n",
       "      <td>0.00000</td>\n",
       "      <td>224.157562</td>\n",
       "      <td>67</td>\n",
       "      <td>0</td>\n",
       "      <td>bovize</td>\n",
       "      <td>235.558</td>\n",
       "      <td>5</td>\n",
       "      <td>33</td>\n",
       "    </tr>\n",
       "    <tr>\n",
       "      <th>3</th>\n",
       "      <td>2017-11-26T20:59:40+0000</td>\n",
       "      <td>37</td>\n",
       "      <td>2U4GBNA0YmnNZYkzjkfgN4ev-hXSrak_BSey_YEG6kIuDG...</td>\n",
       "      <td>tpp</td>\n",
       "      <td>2</td>\n",
       "      <td>0</td>\n",
       "      <td>0</td>\n",
       "      <td>0.00000</td>\n",
       "      <td>92.935150</td>\n",
       "      <td>0</td>\n",
       "      <td>0</td>\n",
       "      <td>sbahn87</td>\n",
       "      <td>197.553</td>\n",
       "      <td>5</td>\n",
       "      <td>33</td>\n",
       "    </tr>\n",
       "    <tr>\n",
       "      <th>4</th>\n",
       "      <td>2017-11-26T20:59:40+0000</td>\n",
       "      <td>37</td>\n",
       "      <td>2U4GBNA0YmnNZYkzjkfgN4ev-hXSrak_BSey_YEG6kIuDG...</td>\n",
       "      <td>tpp</td>\n",
       "      <td>2</td>\n",
       "      <td>0</td>\n",
       "      <td>0</td>\n",
       "      <td>2619.07739</td>\n",
       "      <td>2510.447000</td>\n",
       "      <td>175</td>\n",
       "      <td>2</td>\n",
       "      <td>GeminiZZZ</td>\n",
       "      <td>1537.495</td>\n",
       "      <td>14</td>\n",
       "      <td>11</td>\n",
       "    </tr>\n",
       "  </tbody>\n",
       "</table>\n",
       "</div>"
      ],
      "text/plain": [
       "                       date  game_size  \\\n",
       "0  2017-11-26T20:59:40+0000         37   \n",
       "1  2017-11-26T20:59:40+0000         37   \n",
       "2  2017-11-26T20:59:40+0000         37   \n",
       "3  2017-11-26T20:59:40+0000         37   \n",
       "4  2017-11-26T20:59:40+0000         37   \n",
       "\n",
       "                                            match_id match_mode  party_size  \\\n",
       "0  2U4GBNA0YmnNZYkzjkfgN4ev-hXSrak_BSey_YEG6kIuDG...        tpp           2   \n",
       "1  2U4GBNA0YmnNZYkzjkfgN4ev-hXSrak_BSey_YEG6kIuDG...        tpp           2   \n",
       "2  2U4GBNA0YmnNZYkzjkfgN4ev-hXSrak_BSey_YEG6kIuDG...        tpp           2   \n",
       "3  2U4GBNA0YmnNZYkzjkfgN4ev-hXSrak_BSey_YEG6kIuDG...        tpp           2   \n",
       "4  2U4GBNA0YmnNZYkzjkfgN4ev-hXSrak_BSey_YEG6kIuDG...        tpp           2   \n",
       "\n",
       "   player_assists  player_dbno  player_dist_ride  player_dist_walk  \\\n",
       "0               0            1        2870.72400       1784.847780   \n",
       "1               0            1        2938.40723       1756.079710   \n",
       "2               0            0           0.00000        224.157562   \n",
       "3               0            0           0.00000         92.935150   \n",
       "4               0            0        2619.07739       2510.447000   \n",
       "\n",
       "   player_dmg  player_kills player_name  player_survive_time  team_id  \\\n",
       "0         117             1    SnuffIes             1106.320        4   \n",
       "1         127             1      Ozon3r             1106.315        4   \n",
       "2          67             0      bovize              235.558        5   \n",
       "3           0             0     sbahn87              197.553        5   \n",
       "4         175             2   GeminiZZZ             1537.495       14   \n",
       "\n",
       "   team_placement  \n",
       "0              18  \n",
       "1              18  \n",
       "2              33  \n",
       "3              33  \n",
       "4              11  "
      ]
     },
     "execution_count": 3,
     "metadata": {},
     "output_type": "execute_result"
    }
   ],
   "source": [
    "aggregate.head()"
   ]
  },
  {
   "cell_type": "code",
   "execution_count": 4,
   "metadata": {
    "collapsed": true
   },
   "outputs": [],
   "source": [
    "data = aggregate"
   ]
  },
  {
   "cell_type": "code",
   "execution_count": 5,
   "metadata": {
    "collapsed": true
   },
   "outputs": [],
   "source": [
    "del data['date']\n",
    "del data['match_id']\n",
    "del data['match_mode']\n",
    "del data['team_id']"
   ]
  },
  {
   "cell_type": "code",
   "execution_count": 6,
   "metadata": {
    "collapsed": true
   },
   "outputs": [],
   "source": [
    "data = data[data.party_size == 1]"
   ]
  },
  {
   "cell_type": "code",
   "execution_count": 7,
   "metadata": {
    "collapsed": true
   },
   "outputs": [],
   "source": [
    "del data['party_size']\n",
    "del data['game_size']"
   ]
  },
  {
   "cell_type": "code",
   "execution_count": 8,
   "metadata": {
    "collapsed": true
   },
   "outputs": [],
   "source": [
    "data = data.reset_index(drop=True)"
   ]
  },
  {
   "cell_type": "code",
   "execution_count": 9,
   "metadata": {},
   "outputs": [
    {
     "data": {
      "text/html": [
       "<div>\n",
       "<style>\n",
       "    .dataframe thead tr:only-child th {\n",
       "        text-align: right;\n",
       "    }\n",
       "\n",
       "    .dataframe thead th {\n",
       "        text-align: left;\n",
       "    }\n",
       "\n",
       "    .dataframe tbody tr th {\n",
       "        vertical-align: top;\n",
       "    }\n",
       "</style>\n",
       "<table border=\"1\" class=\"dataframe\">\n",
       "  <thead>\n",
       "    <tr style=\"text-align: right;\">\n",
       "      <th></th>\n",
       "      <th>player_assists</th>\n",
       "      <th>player_dbno</th>\n",
       "      <th>player_dist_ride</th>\n",
       "      <th>player_dist_walk</th>\n",
       "      <th>player_dmg</th>\n",
       "      <th>player_kills</th>\n",
       "      <th>player_name</th>\n",
       "      <th>player_survive_time</th>\n",
       "      <th>team_placement</th>\n",
       "    </tr>\n",
       "  </thead>\n",
       "  <tbody>\n",
       "    <tr>\n",
       "      <th>0</th>\n",
       "      <td>0</td>\n",
       "      <td>0</td>\n",
       "      <td>0.000000</td>\n",
       "      <td>170.954788</td>\n",
       "      <td>0</td>\n",
       "      <td>0</td>\n",
       "      <td>Satch</td>\n",
       "      <td>186.999</td>\n",
       "      <td>79</td>\n",
       "    </tr>\n",
       "    <tr>\n",
       "      <th>1</th>\n",
       "      <td>0</td>\n",
       "      <td>0</td>\n",
       "      <td>0.000000</td>\n",
       "      <td>66.545590</td>\n",
       "      <td>0</td>\n",
       "      <td>0</td>\n",
       "      <td>osamabinlaggon</td>\n",
       "      <td>124.782</td>\n",
       "      <td>87</td>\n",
       "    </tr>\n",
       "    <tr>\n",
       "      <th>2</th>\n",
       "      <td>0</td>\n",
       "      <td>0</td>\n",
       "      <td>728.722656</td>\n",
       "      <td>610.168945</td>\n",
       "      <td>124</td>\n",
       "      <td>0</td>\n",
       "      <td>dengboyu76</td>\n",
       "      <td>839.161</td>\n",
       "      <td>35</td>\n",
       "    </tr>\n",
       "    <tr>\n",
       "      <th>3</th>\n",
       "      <td>0</td>\n",
       "      <td>0</td>\n",
       "      <td>2646.184000</td>\n",
       "      <td>1431.292000</td>\n",
       "      <td>24</td>\n",
       "      <td>0</td>\n",
       "      <td>GOGingmimi</td>\n",
       "      <td>751.716</td>\n",
       "      <td>46</td>\n",
       "    </tr>\n",
       "    <tr>\n",
       "      <th>4</th>\n",
       "      <td>0</td>\n",
       "      <td>0</td>\n",
       "      <td>0.000000</td>\n",
       "      <td>723.102300</td>\n",
       "      <td>100</td>\n",
       "      <td>1</td>\n",
       "      <td>AtomicBrunette</td>\n",
       "      <td>744.088</td>\n",
       "      <td>47</td>\n",
       "    </tr>\n",
       "  </tbody>\n",
       "</table>\n",
       "</div>"
      ],
      "text/plain": [
       "   player_assists  player_dbno  player_dist_ride  player_dist_walk  \\\n",
       "0               0            0          0.000000        170.954788   \n",
       "1               0            0          0.000000         66.545590   \n",
       "2               0            0        728.722656        610.168945   \n",
       "3               0            0       2646.184000       1431.292000   \n",
       "4               0            0          0.000000        723.102300   \n",
       "\n",
       "   player_dmg  player_kills     player_name  player_survive_time  \\\n",
       "0           0             0           Satch              186.999   \n",
       "1           0             0  osamabinlaggon              124.782   \n",
       "2         124             0      dengboyu76              839.161   \n",
       "3          24             0      GOGingmimi              751.716   \n",
       "4         100             1  AtomicBrunette              744.088   \n",
       "\n",
       "   team_placement  \n",
       "0              79  \n",
       "1              87  \n",
       "2              35  \n",
       "3              46  \n",
       "4              47  "
      ]
     },
     "execution_count": 9,
     "metadata": {},
     "output_type": "execute_result"
    }
   ],
   "source": [
    "data.head()"
   ]
  },
  {
   "cell_type": "code",
   "execution_count": 10,
   "metadata": {},
   "outputs": [
    {
     "data": {
      "text/html": [
       "<div>\n",
       "<style>\n",
       "    .dataframe thead tr:only-child th {\n",
       "        text-align: right;\n",
       "    }\n",
       "\n",
       "    .dataframe thead th {\n",
       "        text-align: left;\n",
       "    }\n",
       "\n",
       "    .dataframe tbody tr th {\n",
       "        vertical-align: top;\n",
       "    }\n",
       "</style>\n",
       "<table border=\"1\" class=\"dataframe\">\n",
       "  <thead>\n",
       "    <tr style=\"text-align: right;\">\n",
       "      <th></th>\n",
       "      <th>player_assists</th>\n",
       "      <th>player_dbno</th>\n",
       "      <th>player_dist_ride</th>\n",
       "      <th>player_dist_walk</th>\n",
       "      <th>player_dmg</th>\n",
       "      <th>player_kills</th>\n",
       "      <th>player_survive_time</th>\n",
       "      <th>team_placement</th>\n",
       "    </tr>\n",
       "  </thead>\n",
       "  <tbody>\n",
       "    <tr>\n",
       "      <th>count</th>\n",
       "      <td>2.883170e+06</td>\n",
       "      <td>2883170.0</td>\n",
       "      <td>2.883170e+06</td>\n",
       "      <td>2.883170e+06</td>\n",
       "      <td>2.883170e+06</td>\n",
       "      <td>2.883170e+06</td>\n",
       "      <td>2.883170e+06</td>\n",
       "      <td>2.883170e+06</td>\n",
       "    </tr>\n",
       "    <tr>\n",
       "      <th>mean</th>\n",
       "      <td>6.159089e-02</td>\n",
       "      <td>0.0</td>\n",
       "      <td>8.819219e+02</td>\n",
       "      <td>1.159026e+03</td>\n",
       "      <td>1.125187e+02</td>\n",
       "      <td>8.973103e-01</td>\n",
       "      <td>3.097825e+05</td>\n",
       "      <td>4.782749e+01</td>\n",
       "    </tr>\n",
       "    <tr>\n",
       "      <th>std</th>\n",
       "      <td>2.539299e-01</td>\n",
       "      <td>0.0</td>\n",
       "      <td>1.837711e+03</td>\n",
       "      <td>4.886952e+03</td>\n",
       "      <td>1.624485e+02</td>\n",
       "      <td>1.567658e+00</td>\n",
       "      <td>1.402529e+08</td>\n",
       "      <td>2.735663e+01</td>\n",
       "    </tr>\n",
       "    <tr>\n",
       "      <th>min</th>\n",
       "      <td>0.000000e+00</td>\n",
       "      <td>0.0</td>\n",
       "      <td>0.000000e+00</td>\n",
       "      <td>0.000000e+00</td>\n",
       "      <td>0.000000e+00</td>\n",
       "      <td>0.000000e+00</td>\n",
       "      <td>0.000000e+00</td>\n",
       "      <td>1.000000e+00</td>\n",
       "    </tr>\n",
       "    <tr>\n",
       "      <th>25%</th>\n",
       "      <td>0.000000e+00</td>\n",
       "      <td>0.0</td>\n",
       "      <td>0.000000e+00</td>\n",
       "      <td>1.511720e+02</td>\n",
       "      <td>0.000000e+00</td>\n",
       "      <td>0.000000e+00</td>\n",
       "      <td>2.072490e+02</td>\n",
       "      <td>2.400000e+01</td>\n",
       "    </tr>\n",
       "    <tr>\n",
       "      <th>50%</th>\n",
       "      <td>0.000000e+00</td>\n",
       "      <td>0.0</td>\n",
       "      <td>0.000000e+00</td>\n",
       "      <td>6.884471e+02</td>\n",
       "      <td>6.800000e+01</td>\n",
       "      <td>0.000000e+00</td>\n",
       "      <td>5.779840e+02</td>\n",
       "      <td>4.800000e+01</td>\n",
       "    </tr>\n",
       "    <tr>\n",
       "      <th>75%</th>\n",
       "      <td>0.000000e+00</td>\n",
       "      <td>0.0</td>\n",
       "      <td>1.104039e+03</td>\n",
       "      <td>1.818462e+03</td>\n",
       "      <td>1.570000e+02</td>\n",
       "      <td>1.000000e+00</td>\n",
       "      <td>1.178320e+03</td>\n",
       "      <td>7.100000e+01</td>\n",
       "    </tr>\n",
       "    <tr>\n",
       "      <th>max</th>\n",
       "      <td>6.000000e+00</td>\n",
       "      <td>0.0</td>\n",
       "      <td>4.046806e+05</td>\n",
       "      <td>1.188375e+06</td>\n",
       "      <td>6.343000e+03</td>\n",
       "      <td>6.400000e+01</td>\n",
       "      <td>6.364788e+10</td>\n",
       "      <td>1.000000e+02</td>\n",
       "    </tr>\n",
       "  </tbody>\n",
       "</table>\n",
       "</div>"
      ],
      "text/plain": [
       "       player_assists  player_dbno  player_dist_ride  player_dist_walk  \\\n",
       "count    2.883170e+06    2883170.0      2.883170e+06      2.883170e+06   \n",
       "mean     6.159089e-02          0.0      8.819219e+02      1.159026e+03   \n",
       "std      2.539299e-01          0.0      1.837711e+03      4.886952e+03   \n",
       "min      0.000000e+00          0.0      0.000000e+00      0.000000e+00   \n",
       "25%      0.000000e+00          0.0      0.000000e+00      1.511720e+02   \n",
       "50%      0.000000e+00          0.0      0.000000e+00      6.884471e+02   \n",
       "75%      0.000000e+00          0.0      1.104039e+03      1.818462e+03   \n",
       "max      6.000000e+00          0.0      4.046806e+05      1.188375e+06   \n",
       "\n",
       "         player_dmg  player_kills  player_survive_time  team_placement  \n",
       "count  2.883170e+06  2.883170e+06         2.883170e+06    2.883170e+06  \n",
       "mean   1.125187e+02  8.973103e-01         3.097825e+05    4.782749e+01  \n",
       "std    1.624485e+02  1.567658e+00         1.402529e+08    2.735663e+01  \n",
       "min    0.000000e+00  0.000000e+00         0.000000e+00    1.000000e+00  \n",
       "25%    0.000000e+00  0.000000e+00         2.072490e+02    2.400000e+01  \n",
       "50%    6.800000e+01  0.000000e+00         5.779840e+02    4.800000e+01  \n",
       "75%    1.570000e+02  1.000000e+00         1.178320e+03    7.100000e+01  \n",
       "max    6.343000e+03  6.400000e+01         6.364788e+10    1.000000e+02  "
      ]
     },
     "execution_count": 10,
     "metadata": {},
     "output_type": "execute_result"
    }
   ],
   "source": [
    "data.describe()"
   ]
  },
  {
   "cell_type": "code",
   "execution_count": 11,
   "metadata": {
    "collapsed": true
   },
   "outputs": [],
   "source": [
    "del data['player_dbno']"
   ]
  },
  {
   "cell_type": "code",
   "execution_count": 12,
   "metadata": {
    "collapsed": true
   },
   "outputs": [],
   "source": [
    "data = data[data.player_kills < 20] #Eliminating cheaters"
   ]
  },
  {
   "cell_type": "code",
   "execution_count": 13,
   "metadata": {
    "collapsed": true
   },
   "outputs": [],
   "source": [
    "test = data[100000:120000]"
   ]
  },
  {
   "cell_type": "code",
   "execution_count": 14,
   "metadata": {
    "collapsed": true
   },
   "outputs": [],
   "source": [
    "train = data[0:100000]"
   ]
  },
  {
   "cell_type": "code",
   "execution_count": 134,
   "metadata": {},
   "outputs": [
    {
     "data": {
      "image/png": "[encoded data removed]",
      "text/plain": [
       "<matplotlib.figure.Figure at 0x1eca70a56d8>"
      ]
     },
     "metadata": {},
     "output_type": "display_data"
    }
   ],
   "source": [
    "fig1 = train.plot.scatter(x='team_placement', y='player_kills', color='green', s=1)\n",
    "fig1.set_xlabel(\"Rank\")\n",
    "fig1.set_ylabel(\"Kills\")\n",
    "fig1.grid(color='black', axis=['x', 'y'], linestyle='solid')"
   ]
  },
  {
   "cell_type": "code",
   "execution_count": 16,
   "metadata": {},
   "outputs": [
    {
     "name": "stdout",
     "output_type": "stream",
     "text": [
      "    Kills\t\t   Assists\t\t\t   Damage\n",
      "    average\tmedian\t  average\t\tmedian\t   average\tmedian\t   \n",
      "Q5: 0.104  \t0.0  \t0.038551951104842504  \t0.0\t   25.94  \t0.0\n",
      "Q4: 0.360  \t0.0  \t0.0363725012189176  \t0.0\t   55.56  \t27.0\n",
      "Q3: 0.638  \t0.0  \t0.04233134729963483  \t0.0\t   85.49  \t67.0\n",
      "Q2: 1.003  \t1.0  \t0.06810672190166198  \t0.0\t   126.0  \t100.0\n",
      "Q1: 1.463  \t1.0  \t0.09092820351098496  \t0.0\t   175.0  \t134.0\n",
      "T10: 1.943  \t2.0  \t0.12057394121731081  \t0.0\t   225.7  \t191.0\n",
      "T5: 2.736  \t2.0  \t0.16723024900092223  \t0.0\t   308.2  \t271.0\n",
      "Winner: 6.461  \t6.0  \t0.241635687732342  \t0.0\t   664.9  \t616.0\n"
     ]
    }
   ],
   "source": [
    "groups = [(\"Q5\", 100,80), (\"Q4\", 79, 60), (\"Q3\", 59,40),(\"Q2\", 40,20),(\"Q1\", 19,10),(\"T10\", 10,6),(\"T5\", 5,2),(\"Winner\", 1,0)]\n",
    "print(\"    Kills\\t\\t   Assists\\t\\t\\t   Damage\\n    average\\tmedian\\t  average\\t\\tmedian\\t   average\\tmedian\\t   \")\n",
    "for (name, lte, gt) in groups:\n",
    "    mean_kills = train[(train['team_placement'] > gt) & (train['team_placement'] <= lte)]['player_kills'].mean()\n",
    "    median_kills = train[(train['team_placement'] > gt) & (train['team_placement'] <= lte)]['player_kills'].median()\n",
    "    mean_assists = train[(train['team_placement'] > gt) & (train['team_placement'] <= lte)]['player_assists'].mean()\n",
    "    median_assists = train[(train['team_placement'] > gt) & (train['team_placement'] <= lte)]['player_assists'].median()\n",
    "    mean_dmg = train[(train['team_placement'] > gt) & (train['team_placement'] <= lte)]['player_dmg'].mean()\n",
    "    median_dmg = train[(train['team_placement'] > gt) & (train['team_placement'] <= lte)]['player_dmg'].median()\n",
    "    print(name+\": \"+str(mean_kills)[0:5]+\"  \\t\"+str(median_kills)+\"  \\t\"+str(mean_assists)+\"  \\t\"+str(median_assists)+\"\\t   \"+str(mean_dmg)[0:5]+\"  \\t\"+str(median_dmg))"
   ]
  },
  {
   "cell_type": "code",
   "execution_count": 17,
   "metadata": {},
   "outputs": [
    {
     "data": {
      "text/plain": [
       "Text(0,0.5,'Count')"
      ]
     },
     "execution_count": 17,
     "metadata": {},
     "output_type": "execute_result"
    },
    {
     "data": {
      "image/png": "[encoded data removed]",
      "text/plain": [
       "<matplotlib.figure.Figure at 0x1ec26328550>"
      ]
     },
     "metadata": {},
     "output_type": "display_data"
    }
   ],
   "source": [
    "fig2 = data[\"player_assists\"].hist(bins= 5, range=[0,5])\n",
    "fig2.set_xlabel(\"Assists\")\n",
    "fig2.set_ylabel(\"Count\")"
   ]
  },
  {
   "cell_type": "code",
   "execution_count": 18,
   "metadata": {},
   "outputs": [
    {
     "data": {
      "text/plain": [
       "Text(0,0.5,'Damage to Other Players')"
      ]
     },
     "execution_count": 18,
     "metadata": {},
     "output_type": "execute_result"
    },
    {
     "data": {
      "image/png": "[encoded data removed]",
      "text/plain": [
       "<matplotlib.figure.Figure at 0x1ecdc046c50>"
      ]
     },
     "metadata": {},
     "output_type": "display_data"
    }
   ],
   "source": [
    "fig4 = train.plot.scatter(x='team_placement', y='player_dmg', color='green', s=1)\n",
    "fig4.set_xlabel(\"Rank\")\n",
    "fig4.set_ylabel(\"Damage to Other Players\")"
   ]
  },
  {
   "cell_type": "code",
   "execution_count": 19,
   "metadata": {},
   "outputs": [
    {
     "data": {
      "image/png": "[encoded data removed]",
      "text/plain": [
       "<matplotlib.figure.Figure at 0x1ec25e2b630>"
      ]
     },
     "metadata": {},
     "output_type": "display_data"
    }
   ],
   "source": [
    "train1 = train[train.player_dist_walk < 15000]\n",
    "fig5 = plt.scatter(x=train1['team_placement'], y=train1['player_dist_walk'], s=0.8, color='purple')\n",
    "#fig5.set_xlabel(\"Rank\")\n",
    "#fig5.set_ylabel(\"Damage to Other\")"
   ]
  },
  {
   "cell_type": "code",
   "execution_count": 20,
   "metadata": {},
   "outputs": [
    {
     "data": {
      "text/plain": [
       "Text(0,0.5,'Distance Walked')"
      ]
     },
     "execution_count": 20,
     "metadata": {},
     "output_type": "execute_result"
    },
    {
     "data": {
      "image/png": "[encoded data removed]",
      "text/plain": [
       "<matplotlib.figure.Figure at 0x1ecdc0295f8>"
      ]
     },
     "metadata": {},
     "output_type": "display_data"
    }
   ],
   "source": [
    "fig4 = train1.plot.scatter(x='team_placement', y='player_dist_walk', s=0.8, color='purple')\n",
    "fig4.set_xlabel(\"Rank\")\n",
    "fig4.set_ylabel(\"Distance Walked\")"
   ]
  },
  {
   "cell_type": "code",
   "execution_count": 21,
   "metadata": {},
   "outputs": [
    {
     "data": {
      "text/plain": [
       "Text(0,0.5,'Distance Ride')"
      ]
     },
     "execution_count": 21,
     "metadata": {},
     "output_type": "execute_result"
    },
    {
     "data": {
      "image/png": "[encoded data removed]",
      "text/plain": [
       "<matplotlib.figure.Figure at 0x1ecdbfedf28>"
      ]
     },
     "metadata": {},
     "output_type": "display_data"
    }
   ],
   "source": [
    "fig4 = train1.plot.scatter(x='team_placement', y='player_dist_ride', s=0.8, color='red')\n",
    "fig4.set_xlabel(\"Rank\")\n",
    "fig4.set_ylabel(\"Distance Ride\")"
   ]
  },
  {
   "cell_type": "code",
   "execution_count": 22,
   "metadata": {
    "collapsed": true
   },
   "outputs": [],
   "source": [
    "val = \"null\"\n",
    "def SuccessFunc(df):\n",
    "    if df['team_placement'] < 100 and df['team_placement'] >= 80:\n",
    "        val = \"5thQuarter\"\n",
    "    elif df['team_placement'] < 80 and df['team_placement'] >= 60:\n",
    "        val = \"4thQuarter\"\n",
    "    elif df['team_placement'] < 60 and df['team_placement'] >= 40:\n",
    "        val = \"3rdQuarter\"\n",
    "    elif df['team_placement'] < 40 and df['team_placement'] >= 20:\n",
    "        val = \"2ndQuarter\"\n",
    "    elif df['team_placement'] < 40 and df['team_placement'] >= 10:\n",
    "        val = \"1stQuarter\"\n",
    "    elif df['team_placement'] < 10 and df['team_placement'] >= 5:\n",
    "        val = \"Top10\"\n",
    "    elif df['team_placement'] < 5 and df['team_placement'] >= 2:\n",
    "        val = \"Top5\"\n",
    "    else:\n",
    "        val = \"Winner\"\n",
    "    \n",
    "    return val"
   ]
  },
  {
   "cell_type": "code",
   "execution_count": 23,
   "metadata": {},
   "outputs": [
    {
     "name": "stderr",
     "output_type": "stream",
     "text": [
      "C:\\Users\\fatih\\Anaconda3\\lib\\site-packages\\ipykernel_launcher.py:1: SettingWithCopyWarning: \n",
      "A value is trying to be set on a copy of a slice from a DataFrame.\n",
      "Try using .loc[row_indexer,col_indexer] = value instead\n",
      "\n",
      "See the caveats in the documentation: http://pandas.pydata.org/pandas-docs/stable/indexing.html#indexing-view-versus-copy\n",
      "  \"\"\"Entry point for launching an IPython kernel.\n"
     ]
    },
    {
     "name": "stdout",
     "output_type": "stream",
     "text": [
      "0         4thQuarter\n",
      "1         5thQuarter\n",
      "2         2ndQuarter\n",
      "3         3rdQuarter\n",
      "4         3rdQuarter\n",
      "5         5thQuarter\n",
      "6         2ndQuarter\n",
      "7         3rdQuarter\n",
      "8         4thQuarter\n",
      "9         4thQuarter\n",
      "10        2ndQuarter\n",
      "11        4thQuarter\n",
      "12        5thQuarter\n",
      "13        3rdQuarter\n",
      "14        5thQuarter\n",
      "15        2ndQuarter\n",
      "16        4thQuarter\n",
      "17        3rdQuarter\n",
      "18        4thQuarter\n",
      "19        2ndQuarter\n",
      "20            Winner\n",
      "21        4thQuarter\n",
      "22        4thQuarter\n",
      "23        2ndQuarter\n",
      "24        3rdQuarter\n",
      "25        2ndQuarter\n",
      "26        3rdQuarter\n",
      "27        2ndQuarter\n",
      "28        3rdQuarter\n",
      "29        4thQuarter\n",
      "             ...    \n",
      "99984     3rdQuarter\n",
      "99985     3rdQuarter\n",
      "99986     5thQuarter\n",
      "99987     2ndQuarter\n",
      "99988         Winner\n",
      "99989     4thQuarter\n",
      "99990     3rdQuarter\n",
      "99991     3rdQuarter\n",
      "99992     4thQuarter\n",
      "99993     4thQuarter\n",
      "99994     2ndQuarter\n",
      "99995     2ndQuarter\n",
      "99996     5thQuarter\n",
      "99997           Top5\n",
      "99998     3rdQuarter\n",
      "99999     5thQuarter\n",
      "100000    3rdQuarter\n",
      "100001    2ndQuarter\n",
      "100002    3rdQuarter\n",
      "100003    4thQuarter\n",
      "100004    1stQuarter\n",
      "100005         Top10\n",
      "100006    3rdQuarter\n",
      "100007    4thQuarter\n",
      "100008    2ndQuarter\n",
      "100009    2ndQuarter\n",
      "100010    3rdQuarter\n",
      "100011    1stQuarter\n",
      "100012    5thQuarter\n",
      "100013         Top10\n",
      "Length: 100000, dtype: object\n"
     ]
    }
   ],
   "source": [
    "train['Success'] = train.apply(SuccessFunc, axis=1)\n",
    "print(train.apply(SuccessFunc, axis=1))"
   ]
  },
  {
   "cell_type": "code",
   "execution_count": 24,
   "metadata": {},
   "outputs": [
    {
     "name": "stderr",
     "output_type": "stream",
     "text": [
      "C:\\Users\\fatih\\Anaconda3\\lib\\site-packages\\ipykernel_launcher.py:1: SettingWithCopyWarning: \n",
      "A value is trying to be set on a copy of a slice from a DataFrame.\n",
      "Try using .loc[row_indexer,col_indexer] = value instead\n",
      "\n",
      "See the caveats in the documentation: http://pandas.pydata.org/pandas-docs/stable/indexing.html#indexing-view-versus-copy\n",
      "  \"\"\"Entry point for launching an IPython kernel.\n"
     ]
    },
    {
     "name": "stdout",
     "output_type": "stream",
     "text": [
      "100014         Top10\n",
      "100015    1stQuarter\n",
      "100016    2ndQuarter\n",
      "100017    4thQuarter\n",
      "100018    5thQuarter\n",
      "100019    1stQuarter\n",
      "100020    2ndQuarter\n",
      "100021    4thQuarter\n",
      "100022    5thQuarter\n",
      "100023    5thQuarter\n",
      "100024    3rdQuarter\n",
      "100025    3rdQuarter\n",
      "100026    2ndQuarter\n",
      "100027    5thQuarter\n",
      "100028    3rdQuarter\n",
      "100029    2ndQuarter\n",
      "100030    3rdQuarter\n",
      "100031    3rdQuarter\n",
      "100032         Top10\n",
      "100033    4thQuarter\n",
      "100034    4thQuarter\n",
      "100035    5thQuarter\n",
      "100036    2ndQuarter\n",
      "100037         Top10\n",
      "100038    5thQuarter\n",
      "100039    4thQuarter\n",
      "100040    1stQuarter\n",
      "100041    3rdQuarter\n",
      "100042    4thQuarter\n",
      "100043    4thQuarter\n",
      "             ...    \n",
      "119986    3rdQuarter\n",
      "119987    4thQuarter\n",
      "119988         Top10\n",
      "119989    3rdQuarter\n",
      "119990    1stQuarter\n",
      "119991    4thQuarter\n",
      "119992          Top5\n",
      "119993    4thQuarter\n",
      "119994    3rdQuarter\n",
      "119995    1stQuarter\n",
      "119996    4thQuarter\n",
      "119997    3rdQuarter\n",
      "119998    2ndQuarter\n",
      "119999    2ndQuarter\n",
      "120000    3rdQuarter\n",
      "120001         Top10\n",
      "120002    4thQuarter\n",
      "120003    2ndQuarter\n",
      "120004    3rdQuarter\n",
      "120005    3rdQuarter\n",
      "120006    3rdQuarter\n",
      "120007    3rdQuarter\n",
      "120008    2ndQuarter\n",
      "120009    4thQuarter\n",
      "120010    1stQuarter\n",
      "120011    1stQuarter\n",
      "120012         Top10\n",
      "120013    1stQuarter\n",
      "120014    5thQuarter\n",
      "120015    5thQuarter\n",
      "Length: 20000, dtype: object\n"
     ]
    }
   ],
   "source": [
    "test['Success'] = test.apply(SuccessFunc, axis=1)\n",
    "print(test.apply(SuccessFunc, axis=1))"
   ]
  },
  {
   "cell_type": "code",
   "execution_count": 25,
   "metadata": {},
   "outputs": [
    {
     "data": {
      "text/html": [
       "<div>\n",
       "<style>\n",
       "    .dataframe thead tr:only-child th {\n",
       "        text-align: right;\n",
       "    }\n",
       "\n",
       "    .dataframe thead th {\n",
       "        text-align: left;\n",
       "    }\n",
       "\n",
       "    .dataframe tbody tr th {\n",
       "        vertical-align: top;\n",
       "    }\n",
       "</style>\n",
       "<table border=\"1\" class=\"dataframe\">\n",
       "  <thead>\n",
       "    <tr style=\"text-align: right;\">\n",
       "      <th></th>\n",
       "      <th>player_assists</th>\n",
       "      <th>player_dist_ride</th>\n",
       "      <th>player_dist_walk</th>\n",
       "      <th>player_dmg</th>\n",
       "      <th>player_kills</th>\n",
       "      <th>player_name</th>\n",
       "      <th>player_survive_time</th>\n",
       "      <th>team_placement</th>\n",
       "      <th>Success</th>\n",
       "    </tr>\n",
       "  </thead>\n",
       "  <tbody>\n",
       "    <tr>\n",
       "      <th>100014</th>\n",
       "      <td>0</td>\n",
       "      <td>1898.99316</td>\n",
       "      <td>4414.635000</td>\n",
       "      <td>239</td>\n",
       "      <td>2</td>\n",
       "      <td>Raymond0512</td>\n",
       "      <td>1637.775</td>\n",
       "      <td>8</td>\n",
       "      <td>Top10</td>\n",
       "    </tr>\n",
       "    <tr>\n",
       "      <th>100015</th>\n",
       "      <td>0</td>\n",
       "      <td>0.00000</td>\n",
       "      <td>3651.032470</td>\n",
       "      <td>0</td>\n",
       "      <td>0</td>\n",
       "      <td>biedawtiouxiang</td>\n",
       "      <td>1447.402</td>\n",
       "      <td>15</td>\n",
       "      <td>1stQuarter</td>\n",
       "    </tr>\n",
       "    <tr>\n",
       "      <th>100016</th>\n",
       "      <td>0</td>\n",
       "      <td>0.00000</td>\n",
       "      <td>3139.203860</td>\n",
       "      <td>168</td>\n",
       "      <td>2</td>\n",
       "      <td>SlippyDip</td>\n",
       "      <td>869.902</td>\n",
       "      <td>32</td>\n",
       "      <td>2ndQuarter</td>\n",
       "    </tr>\n",
       "    <tr>\n",
       "      <th>100017</th>\n",
       "      <td>0</td>\n",
       "      <td>0.00000</td>\n",
       "      <td>121.094025</td>\n",
       "      <td>0</td>\n",
       "      <td>0</td>\n",
       "      <td>M_bl_Jl_o</td>\n",
       "      <td>164.052</td>\n",
       "      <td>74</td>\n",
       "      <td>4thQuarter</td>\n",
       "    </tr>\n",
       "    <tr>\n",
       "      <th>100018</th>\n",
       "      <td>0</td>\n",
       "      <td>0.00000</td>\n",
       "      <td>0.000000</td>\n",
       "      <td>0</td>\n",
       "      <td>0</td>\n",
       "      <td>Ipocampo</td>\n",
       "      <td>874.838</td>\n",
       "      <td>90</td>\n",
       "      <td>5thQuarter</td>\n",
       "    </tr>\n",
       "  </tbody>\n",
       "</table>\n",
       "</div>"
      ],
      "text/plain": [
       "        player_assists  player_dist_ride  player_dist_walk  player_dmg  \\\n",
       "100014               0        1898.99316       4414.635000         239   \n",
       "100015               0           0.00000       3651.032470           0   \n",
       "100016               0           0.00000       3139.203860         168   \n",
       "100017               0           0.00000        121.094025           0   \n",
       "100018               0           0.00000          0.000000           0   \n",
       "\n",
       "        player_kills      player_name  player_survive_time  team_placement  \\\n",
       "100014             2      Raymond0512             1637.775               8   \n",
       "100015             0  biedawtiouxiang             1447.402              15   \n",
       "100016             2        SlippyDip              869.902              32   \n",
       "100017             0        M_bl_Jl_o              164.052              74   \n",
       "100018             0         Ipocampo              874.838              90   \n",
       "\n",
       "           Success  \n",
       "100014       Top10  \n",
       "100015  1stQuarter  \n",
       "100016  2ndQuarter  \n",
       "100017  4thQuarter  \n",
       "100018  5thQuarter  "
      ]
     },
     "execution_count": 25,
     "metadata": {},
     "output_type": "execute_result"
    }
   ],
   "source": [
    "test.head()"
   ]
  },
  {
   "cell_type": "code",
   "execution_count": 26,
   "metadata": {
    "collapsed": true
   },
   "outputs": [],
   "source": [
    "test = test.reset_index(drop=True)"
   ]
  },
  {
   "cell_type": "code",
   "execution_count": 27,
   "metadata": {},
   "outputs": [
    {
     "data": {
      "text/plain": [
       "Text(0,0.5,'Assists')"
      ]
     },
     "execution_count": 27,
     "metadata": {},
     "output_type": "execute_result"
    },
    {
     "data": {
      "image/png": "[encoded data removed]",
      "text/plain": [
       "<matplotlib.figure.Figure at 0x1ecdbfeda90>"
      ]
     },
     "metadata": {},
     "output_type": "display_data"
    }
   ],
   "source": [
    "fig7 = train.plot.scatter(x='team_placement', y='player_assists', s= 0.6, color='orange')\n",
    "fig7.set_xlabel(\"Rank\")\n",
    "fig7.set_ylabel(\"Assists\")"
   ]
  },
  {
   "cell_type": "code",
   "execution_count": 28,
   "metadata": {
    "collapsed": true
   },
   "outputs": [],
   "source": [
    "from sklearn import tree\n",
    "from sklearn.metrics import classification_report\n",
    "X=train[[\"player_assists\", \"player_dist_walk\", \"player_dist_ride\", \"player_dmg\", \"player_kills\"]]\n",
    "Y=train[['Success']]\n",
    "#Classifier = tree.DecisionTreeClassifier()\n",
    "#Classifier = Classifier.fit(X,Y)"
   ]
  },
  {
   "cell_type": "code",
   "execution_count": 29,
   "metadata": {
    "collapsed": true
   },
   "outputs": [],
   "source": [
    "from sklearn import preprocessing"
   ]
  },
  {
   "cell_type": "code",
   "execution_count": 30,
   "metadata": {},
   "outputs": [
    {
     "data": {
      "text/plain": [
       "LabelEncoder()"
      ]
     },
     "execution_count": 30,
     "metadata": {},
     "output_type": "execute_result"
    }
   ],
   "source": [
    "le = preprocessing.LabelEncoder()\n",
    "le.fit([\"5thQuarter\", \"4thQuarter\", \"3rdQuarter\", \"2ndQuarter\", \"1stQuarter\", \"Top10\", \"Top5\", \"Winner\"])"
   ]
  },
  {
   "cell_type": "code",
   "execution_count": 31,
   "metadata": {},
   "outputs": [
    {
     "data": {
      "text/plain": [
       "['1stQuarter',\n",
       " '2ndQuarter',\n",
       " '3rdQuarter',\n",
       " '4thQuarter',\n",
       " '5thQuarter',\n",
       " 'Top10',\n",
       " 'Top5',\n",
       " 'Winner']"
      ]
     },
     "execution_count": 31,
     "metadata": {},
     "output_type": "execute_result"
    }
   ],
   "source": [
    "list(le.classes_)"
   ]
  },
  {
   "cell_type": "code",
   "execution_count": 32,
   "metadata": {
    "collapsed": true
   },
   "outputs": [],
   "source": [
    "Y = le.transform(train['Success'])"
   ]
  },
  {
   "cell_type": "code",
   "execution_count": 33,
   "metadata": {
    "collapsed": true
   },
   "outputs": [],
   "source": [
    "Classifier = tree.DecisionTreeClassifier()\n",
    "Classifier = Classifier.fit(X,Y)"
   ]
  },
  {
   "cell_type": "code",
   "execution_count": 34,
   "metadata": {},
   "outputs": [
    {
     "data": {
      "text/plain": [
       "DecisionTreeClassifier(class_weight=None, criterion='gini', max_depth=None,\n",
       "            max_features=None, max_leaf_nodes=None,\n",
       "            min_impurity_decrease=0.0, min_impurity_split=None,\n",
       "            min_samples_leaf=1, min_samples_split=2,\n",
       "            min_weight_fraction_leaf=0.0, presort=False, random_state=None,\n",
       "            splitter='best')"
      ]
     },
     "execution_count": 34,
     "metadata": {},
     "output_type": "execute_result"
    }
   ],
   "source": [
    "Classifier"
   ]
  },
  {
   "cell_type": "code",
   "execution_count": 35,
   "metadata": {
    "collapsed": true,
    "scrolled": true
   },
   "outputs": [],
   "source": [
    "testtyped = test\n",
    "testtyped['Success'] = le.transform(testtyped['Success'])"
   ]
  },
  {
   "cell_type": "code",
   "execution_count": 36,
   "metadata": {},
   "outputs": [
    {
     "data": {
      "text/html": [
       "<div>\n",
       "<style>\n",
       "    .dataframe thead tr:only-child th {\n",
       "        text-align: right;\n",
       "    }\n",
       "\n",
       "    .dataframe thead th {\n",
       "        text-align: left;\n",
       "    }\n",
       "\n",
       "    .dataframe tbody tr th {\n",
       "        vertical-align: top;\n",
       "    }\n",
       "</style>\n",
       "<table border=\"1\" class=\"dataframe\">\n",
       "  <thead>\n",
       "    <tr style=\"text-align: right;\">\n",
       "      <th></th>\n",
       "      <th>player_assists</th>\n",
       "      <th>player_dist_ride</th>\n",
       "      <th>player_dist_walk</th>\n",
       "      <th>player_dmg</th>\n",
       "      <th>player_kills</th>\n",
       "      <th>player_name</th>\n",
       "      <th>player_survive_time</th>\n",
       "      <th>team_placement</th>\n",
       "      <th>Success</th>\n",
       "    </tr>\n",
       "  </thead>\n",
       "  <tbody>\n",
       "    <tr>\n",
       "      <th>0</th>\n",
       "      <td>0</td>\n",
       "      <td>1898.99316</td>\n",
       "      <td>4414.635000</td>\n",
       "      <td>239</td>\n",
       "      <td>2</td>\n",
       "      <td>Raymond0512</td>\n",
       "      <td>1637.775</td>\n",
       "      <td>8</td>\n",
       "      <td>5</td>\n",
       "    </tr>\n",
       "    <tr>\n",
       "      <th>1</th>\n",
       "      <td>0</td>\n",
       "      <td>0.00000</td>\n",
       "      <td>3651.032470</td>\n",
       "      <td>0</td>\n",
       "      <td>0</td>\n",
       "      <td>biedawtiouxiang</td>\n",
       "      <td>1447.402</td>\n",
       "      <td>15</td>\n",
       "      <td>0</td>\n",
       "    </tr>\n",
       "    <tr>\n",
       "      <th>2</th>\n",
       "      <td>0</td>\n",
       "      <td>0.00000</td>\n",
       "      <td>3139.203860</td>\n",
       "      <td>168</td>\n",
       "      <td>2</td>\n",
       "      <td>SlippyDip</td>\n",
       "      <td>869.902</td>\n",
       "      <td>32</td>\n",
       "      <td>1</td>\n",
       "    </tr>\n",
       "    <tr>\n",
       "      <th>3</th>\n",
       "      <td>0</td>\n",
       "      <td>0.00000</td>\n",
       "      <td>121.094025</td>\n",
       "      <td>0</td>\n",
       "      <td>0</td>\n",
       "      <td>M_bl_Jl_o</td>\n",
       "      <td>164.052</td>\n",
       "      <td>74</td>\n",
       "      <td>3</td>\n",
       "    </tr>\n",
       "    <tr>\n",
       "      <th>4</th>\n",
       "      <td>0</td>\n",
       "      <td>0.00000</td>\n",
       "      <td>0.000000</td>\n",
       "      <td>0</td>\n",
       "      <td>0</td>\n",
       "      <td>Ipocampo</td>\n",
       "      <td>874.838</td>\n",
       "      <td>90</td>\n",
       "      <td>4</td>\n",
       "    </tr>\n",
       "    <tr>\n",
       "      <th>5</th>\n",
       "      <td>0</td>\n",
       "      <td>0.00000</td>\n",
       "      <td>4602.713380</td>\n",
       "      <td>114</td>\n",
       "      <td>2</td>\n",
       "      <td>Cong_x</td>\n",
       "      <td>1372.209</td>\n",
       "      <td>14</td>\n",
       "      <td>0</td>\n",
       "    </tr>\n",
       "    <tr>\n",
       "      <th>6</th>\n",
       "      <td>0</td>\n",
       "      <td>5203.53000</td>\n",
       "      <td>2258.094480</td>\n",
       "      <td>97</td>\n",
       "      <td>0</td>\n",
       "      <td>Slayer1583</td>\n",
       "      <td>1086.885</td>\n",
       "      <td>24</td>\n",
       "      <td>1</td>\n",
       "    </tr>\n",
       "    <tr>\n",
       "      <th>7</th>\n",
       "      <td>0</td>\n",
       "      <td>0.00000</td>\n",
       "      <td>115.197900</td>\n",
       "      <td>197</td>\n",
       "      <td>2</td>\n",
       "      <td>Cigarette_Kai</td>\n",
       "      <td>182.036</td>\n",
       "      <td>63</td>\n",
       "      <td>3</td>\n",
       "    </tr>\n",
       "    <tr>\n",
       "      <th>8</th>\n",
       "      <td>0</td>\n",
       "      <td>0.00000</td>\n",
       "      <td>0.000000</td>\n",
       "      <td>0</td>\n",
       "      <td>0</td>\n",
       "      <td>YUskinbaba</td>\n",
       "      <td>117.720</td>\n",
       "      <td>94</td>\n",
       "      <td>4</td>\n",
       "    </tr>\n",
       "    <tr>\n",
       "      <th>9</th>\n",
       "      <td>0</td>\n",
       "      <td>0.00000</td>\n",
       "      <td>1.092564</td>\n",
       "      <td>0</td>\n",
       "      <td>0</td>\n",
       "      <td>UongBi89</td>\n",
       "      <td>79.111</td>\n",
       "      <td>91</td>\n",
       "      <td>4</td>\n",
       "    </tr>\n",
       "    <tr>\n",
       "      <th>10</th>\n",
       "      <td>0</td>\n",
       "      <td>0.00000</td>\n",
       "      <td>808.990540</td>\n",
       "      <td>39</td>\n",
       "      <td>0</td>\n",
       "      <td>HEFUIKEHRKGJR</td>\n",
       "      <td>573.120</td>\n",
       "      <td>40</td>\n",
       "      <td>2</td>\n",
       "    </tr>\n",
       "    <tr>\n",
       "      <th>11</th>\n",
       "      <td>0</td>\n",
       "      <td>0.00000</td>\n",
       "      <td>495.022430</td>\n",
       "      <td>0</td>\n",
       "      <td>0</td>\n",
       "      <td>Misprince</td>\n",
       "      <td>313.123</td>\n",
       "      <td>52</td>\n",
       "      <td>2</td>\n",
       "    </tr>\n",
       "    <tr>\n",
       "      <th>12</th>\n",
       "      <td>0</td>\n",
       "      <td>0.00000</td>\n",
       "      <td>1191.968870</td>\n",
       "      <td>61</td>\n",
       "      <td>0</td>\n",
       "      <td>BigbossLin521</td>\n",
       "      <td>756.340</td>\n",
       "      <td>30</td>\n",
       "      <td>1</td>\n",
       "    </tr>\n",
       "    <tr>\n",
       "      <th>13</th>\n",
       "      <td>0</td>\n",
       "      <td>0.00000</td>\n",
       "      <td>0.000000</td>\n",
       "      <td>0</td>\n",
       "      <td>0</td>\n",
       "      <td>yz135</td>\n",
       "      <td>76.687</td>\n",
       "      <td>92</td>\n",
       "      <td>4</td>\n",
       "    </tr>\n",
       "    <tr>\n",
       "      <th>14</th>\n",
       "      <td>0</td>\n",
       "      <td>0.00000</td>\n",
       "      <td>589.005249</td>\n",
       "      <td>70</td>\n",
       "      <td>0</td>\n",
       "      <td>4SHES0_0</td>\n",
       "      <td>363.384</td>\n",
       "      <td>48</td>\n",
       "      <td>2</td>\n",
       "    </tr>\n",
       "    <tr>\n",
       "      <th>15</th>\n",
       "      <td>0</td>\n",
       "      <td>0.00000</td>\n",
       "      <td>1690.097290</td>\n",
       "      <td>209</td>\n",
       "      <td>1</td>\n",
       "      <td>liaozhimeng</td>\n",
       "      <td>694.249</td>\n",
       "      <td>32</td>\n",
       "      <td>1</td>\n",
       "    </tr>\n",
       "    <tr>\n",
       "      <th>16</th>\n",
       "      <td>0</td>\n",
       "      <td>0.00000</td>\n",
       "      <td>171.578751</td>\n",
       "      <td>163</td>\n",
       "      <td>1</td>\n",
       "      <td>ayuojun</td>\n",
       "      <td>316.698</td>\n",
       "      <td>51</td>\n",
       "      <td>2</td>\n",
       "    </tr>\n",
       "    <tr>\n",
       "      <th>17</th>\n",
       "      <td>0</td>\n",
       "      <td>0.00000</td>\n",
       "      <td>121.303200</td>\n",
       "      <td>38</td>\n",
       "      <td>0</td>\n",
       "      <td>mm980</td>\n",
       "      <td>191.484</td>\n",
       "      <td>59</td>\n",
       "      <td>2</td>\n",
       "    </tr>\n",
       "    <tr>\n",
       "      <th>18</th>\n",
       "      <td>0</td>\n",
       "      <td>2075.79688</td>\n",
       "      <td>3471.429000</td>\n",
       "      <td>264</td>\n",
       "      <td>1</td>\n",
       "      <td>Sisaebalki</td>\n",
       "      <td>1693.385</td>\n",
       "      <td>6</td>\n",
       "      <td>5</td>\n",
       "    </tr>\n",
       "    <tr>\n",
       "      <th>19</th>\n",
       "      <td>0</td>\n",
       "      <td>0.00000</td>\n",
       "      <td>145.861200</td>\n",
       "      <td>73</td>\n",
       "      <td>0</td>\n",
       "      <td>Bin-Captain</td>\n",
       "      <td>175.153</td>\n",
       "      <td>64</td>\n",
       "      <td>3</td>\n",
       "    </tr>\n",
       "    <tr>\n",
       "      <th>20</th>\n",
       "      <td>0</td>\n",
       "      <td>0.00000</td>\n",
       "      <td>219.722229</td>\n",
       "      <td>0</td>\n",
       "      <td>0</td>\n",
       "      <td>Trouble991</td>\n",
       "      <td>189.410</td>\n",
       "      <td>60</td>\n",
       "      <td>3</td>\n",
       "    </tr>\n",
       "    <tr>\n",
       "      <th>21</th>\n",
       "      <td>0</td>\n",
       "      <td>0.00000</td>\n",
       "      <td>33.196550</td>\n",
       "      <td>39</td>\n",
       "      <td>0</td>\n",
       "      <td>TheDecisiveFox</td>\n",
       "      <td>103.555</td>\n",
       "      <td>84</td>\n",
       "      <td>4</td>\n",
       "    </tr>\n",
       "    <tr>\n",
       "      <th>22</th>\n",
       "      <td>0</td>\n",
       "      <td>0.00000</td>\n",
       "      <td>1523.582000</td>\n",
       "      <td>152</td>\n",
       "      <td>1</td>\n",
       "      <td>BlIilL</td>\n",
       "      <td>796.659</td>\n",
       "      <td>29</td>\n",
       "      <td>1</td>\n",
       "    </tr>\n",
       "    <tr>\n",
       "      <th>23</th>\n",
       "      <td>0</td>\n",
       "      <td>3372.03931</td>\n",
       "      <td>2019.123290</td>\n",
       "      <td>80</td>\n",
       "      <td>0</td>\n",
       "      <td>xiaobai0906</td>\n",
       "      <td>1696.052</td>\n",
       "      <td>5</td>\n",
       "      <td>5</td>\n",
       "    </tr>\n",
       "    <tr>\n",
       "      <th>24</th>\n",
       "      <td>0</td>\n",
       "      <td>0.00000</td>\n",
       "      <td>54.819260</td>\n",
       "      <td>10</td>\n",
       "      <td>0</td>\n",
       "      <td>xXSirLordXx</td>\n",
       "      <td>90.485</td>\n",
       "      <td>89</td>\n",
       "      <td>4</td>\n",
       "    </tr>\n",
       "    <tr>\n",
       "      <th>25</th>\n",
       "      <td>0</td>\n",
       "      <td>0.00000</td>\n",
       "      <td>135.241058</td>\n",
       "      <td>150</td>\n",
       "      <td>1</td>\n",
       "      <td>Soax_</td>\n",
       "      <td>164.482</td>\n",
       "      <td>69</td>\n",
       "      <td>3</td>\n",
       "    </tr>\n",
       "    <tr>\n",
       "      <th>26</th>\n",
       "      <td>0</td>\n",
       "      <td>1350.01855</td>\n",
       "      <td>2676.393550</td>\n",
       "      <td>200</td>\n",
       "      <td>2</td>\n",
       "      <td>BaoPiWang</td>\n",
       "      <td>1260.438</td>\n",
       "      <td>18</td>\n",
       "      <td>0</td>\n",
       "    </tr>\n",
       "    <tr>\n",
       "      <th>27</th>\n",
       "      <td>0</td>\n",
       "      <td>0.00000</td>\n",
       "      <td>721.315369</td>\n",
       "      <td>218</td>\n",
       "      <td>2</td>\n",
       "      <td>Alexey_Shatrov</td>\n",
       "      <td>450.321</td>\n",
       "      <td>44</td>\n",
       "      <td>2</td>\n",
       "    </tr>\n",
       "    <tr>\n",
       "      <th>28</th>\n",
       "      <td>0</td>\n",
       "      <td>0.00000</td>\n",
       "      <td>0.000000</td>\n",
       "      <td>0</td>\n",
       "      <td>0</td>\n",
       "      <td>Barfbag440</td>\n",
       "      <td>118.689</td>\n",
       "      <td>79</td>\n",
       "      <td>3</td>\n",
       "    </tr>\n",
       "    <tr>\n",
       "      <th>29</th>\n",
       "      <td>0</td>\n",
       "      <td>0.00000</td>\n",
       "      <td>149.398392</td>\n",
       "      <td>89</td>\n",
       "      <td>0</td>\n",
       "      <td>Zigggy18</td>\n",
       "      <td>148.273</td>\n",
       "      <td>73</td>\n",
       "      <td>3</td>\n",
       "    </tr>\n",
       "    <tr>\n",
       "      <th>...</th>\n",
       "      <td>...</td>\n",
       "      <td>...</td>\n",
       "      <td>...</td>\n",
       "      <td>...</td>\n",
       "      <td>...</td>\n",
       "      <td>...</td>\n",
       "      <td>...</td>\n",
       "      <td>...</td>\n",
       "      <td>...</td>\n",
       "    </tr>\n",
       "    <tr>\n",
       "      <th>19970</th>\n",
       "      <td>0</td>\n",
       "      <td>0.00000</td>\n",
       "      <td>174.128632</td>\n",
       "      <td>79</td>\n",
       "      <td>0</td>\n",
       "      <td>coldat</td>\n",
       "      <td>237.346</td>\n",
       "      <td>57</td>\n",
       "      <td>2</td>\n",
       "    </tr>\n",
       "    <tr>\n",
       "      <th>19971</th>\n",
       "      <td>0</td>\n",
       "      <td>0.00000</td>\n",
       "      <td>108.647263</td>\n",
       "      <td>27</td>\n",
       "      <td>0</td>\n",
       "      <td>jizuoping</td>\n",
       "      <td>168.855</td>\n",
       "      <td>63</td>\n",
       "      <td>3</td>\n",
       "    </tr>\n",
       "    <tr>\n",
       "      <th>19972</th>\n",
       "      <td>1</td>\n",
       "      <td>2848.15771</td>\n",
       "      <td>3426.577150</td>\n",
       "      <td>270</td>\n",
       "      <td>3</td>\n",
       "      <td>GZG896</td>\n",
       "      <td>1760.899</td>\n",
       "      <td>5</td>\n",
       "      <td>5</td>\n",
       "    </tr>\n",
       "    <tr>\n",
       "      <th>19973</th>\n",
       "      <td>1</td>\n",
       "      <td>0.00000</td>\n",
       "      <td>394.146759</td>\n",
       "      <td>26</td>\n",
       "      <td>0</td>\n",
       "      <td>Edison85</td>\n",
       "      <td>241.624</td>\n",
       "      <td>55</td>\n",
       "      <td>2</td>\n",
       "    </tr>\n",
       "    <tr>\n",
       "      <th>19974</th>\n",
       "      <td>0</td>\n",
       "      <td>3292.92285</td>\n",
       "      <td>1193.237790</td>\n",
       "      <td>121</td>\n",
       "      <td>1</td>\n",
       "      <td>JUNE7JUNE</td>\n",
       "      <td>1635.936</td>\n",
       "      <td>10</td>\n",
       "      <td>0</td>\n",
       "    </tr>\n",
       "    <tr>\n",
       "      <th>19975</th>\n",
       "      <td>0</td>\n",
       "      <td>0.00000</td>\n",
       "      <td>64.079460</td>\n",
       "      <td>45</td>\n",
       "      <td>0</td>\n",
       "      <td>adgdasgha</td>\n",
       "      <td>147.059</td>\n",
       "      <td>66</td>\n",
       "      <td>3</td>\n",
       "    </tr>\n",
       "    <tr>\n",
       "      <th>19976</th>\n",
       "      <td>0</td>\n",
       "      <td>2453.14258</td>\n",
       "      <td>3413.432860</td>\n",
       "      <td>17</td>\n",
       "      <td>0</td>\n",
       "      <td>ZMEI-8-8-8</td>\n",
       "      <td>1824.003</td>\n",
       "      <td>4</td>\n",
       "      <td>6</td>\n",
       "    </tr>\n",
       "    <tr>\n",
       "      <th>19977</th>\n",
       "      <td>0</td>\n",
       "      <td>0.00000</td>\n",
       "      <td>11.670227</td>\n",
       "      <td>0</td>\n",
       "      <td>0</td>\n",
       "      <td>Chennelyn</td>\n",
       "      <td>142.831</td>\n",
       "      <td>67</td>\n",
       "      <td>3</td>\n",
       "    </tr>\n",
       "    <tr>\n",
       "      <th>19978</th>\n",
       "      <td>0</td>\n",
       "      <td>0.00000</td>\n",
       "      <td>491.544500</td>\n",
       "      <td>140</td>\n",
       "      <td>1</td>\n",
       "      <td>BillsFather</td>\n",
       "      <td>390.806</td>\n",
       "      <td>48</td>\n",
       "      <td>2</td>\n",
       "    </tr>\n",
       "    <tr>\n",
       "      <th>19979</th>\n",
       "      <td>0</td>\n",
       "      <td>0.00000</td>\n",
       "      <td>2657.885740</td>\n",
       "      <td>317</td>\n",
       "      <td>3</td>\n",
       "      <td>Mr-Pigz</td>\n",
       "      <td>1469.633</td>\n",
       "      <td>15</td>\n",
       "      <td>0</td>\n",
       "    </tr>\n",
       "    <tr>\n",
       "      <th>19980</th>\n",
       "      <td>0</td>\n",
       "      <td>0.00000</td>\n",
       "      <td>228.378300</td>\n",
       "      <td>87</td>\n",
       "      <td>0</td>\n",
       "      <td>AoiYuiSenpai</td>\n",
       "      <td>206.665</td>\n",
       "      <td>60</td>\n",
       "      <td>3</td>\n",
       "    </tr>\n",
       "    <tr>\n",
       "      <th>19981</th>\n",
       "      <td>0</td>\n",
       "      <td>0.00000</td>\n",
       "      <td>636.173035</td>\n",
       "      <td>0</td>\n",
       "      <td>0</td>\n",
       "      <td>sh00kones</td>\n",
       "      <td>317.178</td>\n",
       "      <td>51</td>\n",
       "      <td>2</td>\n",
       "    </tr>\n",
       "    <tr>\n",
       "      <th>19982</th>\n",
       "      <td>0</td>\n",
       "      <td>2933.16431</td>\n",
       "      <td>1058.851680</td>\n",
       "      <td>0</td>\n",
       "      <td>0</td>\n",
       "      <td>chijijibaba</td>\n",
       "      <td>714.266</td>\n",
       "      <td>38</td>\n",
       "      <td>1</td>\n",
       "    </tr>\n",
       "    <tr>\n",
       "      <th>19983</th>\n",
       "      <td>0</td>\n",
       "      <td>0.00000</td>\n",
       "      <td>1457.123170</td>\n",
       "      <td>0</td>\n",
       "      <td>0</td>\n",
       "      <td>nickname831</td>\n",
       "      <td>740.658</td>\n",
       "      <td>37</td>\n",
       "      <td>1</td>\n",
       "    </tr>\n",
       "    <tr>\n",
       "      <th>19984</th>\n",
       "      <td>0</td>\n",
       "      <td>0.00000</td>\n",
       "      <td>953.050800</td>\n",
       "      <td>0</td>\n",
       "      <td>0</td>\n",
       "      <td>dan2112</td>\n",
       "      <td>563.899</td>\n",
       "      <td>44</td>\n",
       "      <td>2</td>\n",
       "    </tr>\n",
       "    <tr>\n",
       "      <th>19985</th>\n",
       "      <td>1</td>\n",
       "      <td>4258.44700</td>\n",
       "      <td>2484.012210</td>\n",
       "      <td>503</td>\n",
       "      <td>5</td>\n",
       "      <td>cykez</td>\n",
       "      <td>1637.914</td>\n",
       "      <td>9</td>\n",
       "      <td>5</td>\n",
       "    </tr>\n",
       "    <tr>\n",
       "      <th>19986</th>\n",
       "      <td>1</td>\n",
       "      <td>0.00000</td>\n",
       "      <td>91.591910</td>\n",
       "      <td>21</td>\n",
       "      <td>0</td>\n",
       "      <td>NutmeggerBarber</td>\n",
       "      <td>139.393</td>\n",
       "      <td>69</td>\n",
       "      <td>3</td>\n",
       "    </tr>\n",
       "    <tr>\n",
       "      <th>19987</th>\n",
       "      <td>0</td>\n",
       "      <td>0.00000</td>\n",
       "      <td>2692.150000</td>\n",
       "      <td>62</td>\n",
       "      <td>0</td>\n",
       "      <td>xiao850606</td>\n",
       "      <td>1066.935</td>\n",
       "      <td>28</td>\n",
       "      <td>1</td>\n",
       "    </tr>\n",
       "    <tr>\n",
       "      <th>19988</th>\n",
       "      <td>0</td>\n",
       "      <td>0.00000</td>\n",
       "      <td>378.924200</td>\n",
       "      <td>0</td>\n",
       "      <td>0</td>\n",
       "      <td>fumingyu2016</td>\n",
       "      <td>523.829</td>\n",
       "      <td>46</td>\n",
       "      <td>2</td>\n",
       "    </tr>\n",
       "    <tr>\n",
       "      <th>19989</th>\n",
       "      <td>0</td>\n",
       "      <td>0.00000</td>\n",
       "      <td>198.774000</td>\n",
       "      <td>79</td>\n",
       "      <td>1</td>\n",
       "      <td>SsZz-</td>\n",
       "      <td>252.803</td>\n",
       "      <td>53</td>\n",
       "      <td>2</td>\n",
       "    </tr>\n",
       "    <tr>\n",
       "      <th>19990</th>\n",
       "      <td>0</td>\n",
       "      <td>0.00000</td>\n",
       "      <td>1880.230350</td>\n",
       "      <td>65</td>\n",
       "      <td>0</td>\n",
       "      <td>DestinyALEX</td>\n",
       "      <td>571.370</td>\n",
       "      <td>48</td>\n",
       "      <td>2</td>\n",
       "    </tr>\n",
       "    <tr>\n",
       "      <th>19991</th>\n",
       "      <td>0</td>\n",
       "      <td>1042.00647</td>\n",
       "      <td>294.837100</td>\n",
       "      <td>0</td>\n",
       "      <td>0</td>\n",
       "      <td>JohanTheFirst</td>\n",
       "      <td>360.165</td>\n",
       "      <td>58</td>\n",
       "      <td>2</td>\n",
       "    </tr>\n",
       "    <tr>\n",
       "      <th>19992</th>\n",
       "      <td>0</td>\n",
       "      <td>0.00000</td>\n",
       "      <td>398.544342</td>\n",
       "      <td>0</td>\n",
       "      <td>0</td>\n",
       "      <td>seven-cr7</td>\n",
       "      <td>825.787</td>\n",
       "      <td>32</td>\n",
       "      <td>1</td>\n",
       "    </tr>\n",
       "    <tr>\n",
       "      <th>19993</th>\n",
       "      <td>0</td>\n",
       "      <td>0.00000</td>\n",
       "      <td>546.165300</td>\n",
       "      <td>0</td>\n",
       "      <td>0</td>\n",
       "      <td>WhiffleBall_Tony</td>\n",
       "      <td>253.724</td>\n",
       "      <td>63</td>\n",
       "      <td>3</td>\n",
       "    </tr>\n",
       "    <tr>\n",
       "      <th>19994</th>\n",
       "      <td>0</td>\n",
       "      <td>4365.29443</td>\n",
       "      <td>2619.031000</td>\n",
       "      <td>196</td>\n",
       "      <td>2</td>\n",
       "      <td>BBQ-BOOM-1</td>\n",
       "      <td>1403.556</td>\n",
       "      <td>15</td>\n",
       "      <td>0</td>\n",
       "    </tr>\n",
       "    <tr>\n",
       "      <th>19995</th>\n",
       "      <td>0</td>\n",
       "      <td>5564.11800</td>\n",
       "      <td>1081.568240</td>\n",
       "      <td>0</td>\n",
       "      <td>0</td>\n",
       "      <td>Mr__Penguin</td>\n",
       "      <td>1180.666</td>\n",
       "      <td>18</td>\n",
       "      <td>0</td>\n",
       "    </tr>\n",
       "    <tr>\n",
       "      <th>19996</th>\n",
       "      <td>0</td>\n",
       "      <td>2478.78174</td>\n",
       "      <td>5070.031250</td>\n",
       "      <td>0</td>\n",
       "      <td>0</td>\n",
       "      <td>FGFGASFD</td>\n",
       "      <td>1645.824</td>\n",
       "      <td>7</td>\n",
       "      <td>5</td>\n",
       "    </tr>\n",
       "    <tr>\n",
       "      <th>19997</th>\n",
       "      <td>0</td>\n",
       "      <td>2863.72949</td>\n",
       "      <td>2316.975000</td>\n",
       "      <td>441</td>\n",
       "      <td>4</td>\n",
       "      <td>KYSiii</td>\n",
       "      <td>1517.717</td>\n",
       "      <td>11</td>\n",
       "      <td>0</td>\n",
       "    </tr>\n",
       "    <tr>\n",
       "      <th>19998</th>\n",
       "      <td>0</td>\n",
       "      <td>0.00000</td>\n",
       "      <td>43.576553</td>\n",
       "      <td>0</td>\n",
       "      <td>0</td>\n",
       "      <td>musheweiliang</td>\n",
       "      <td>112.829</td>\n",
       "      <td>88</td>\n",
       "      <td>4</td>\n",
       "    </tr>\n",
       "    <tr>\n",
       "      <th>19999</th>\n",
       "      <td>0</td>\n",
       "      <td>0.00000</td>\n",
       "      <td>74.237870</td>\n",
       "      <td>20</td>\n",
       "      <td>0</td>\n",
       "      <td>TTBKuConz</td>\n",
       "      <td>121.014</td>\n",
       "      <td>86</td>\n",
       "      <td>4</td>\n",
       "    </tr>\n",
       "  </tbody>\n",
       "</table>\n",
       "<p>20000 rows × 9 columns</p>\n",
       "</div>"
      ],
      "text/plain": [
       "       player_assists  player_dist_ride  player_dist_walk  player_dmg  \\\n",
       "0                   0        1898.99316       4414.635000         239   \n",
       "1                   0           0.00000       3651.032470           0   \n",
       "2                   0           0.00000       3139.203860         168   \n",
       "3                   0           0.00000        121.094025           0   \n",
       "4                   0           0.00000          0.000000           0   \n",
       "5                   0           0.00000       4602.713380         114   \n",
       "6                   0        5203.53000       2258.094480          97   \n",
       "7                   0           0.00000        115.197900         197   \n",
       "8                   0           0.00000          0.000000           0   \n",
       "9                   0           0.00000          1.092564           0   \n",
       "10                  0           0.00000        808.990540          39   \n",
       "11                  0           0.00000        495.022430           0   \n",
       "12                  0           0.00000       1191.968870          61   \n",
       "13                  0           0.00000          0.000000           0   \n",
       "14                  0           0.00000        589.005249          70   \n",
       "15                  0           0.00000       1690.097290         209   \n",
       "16                  0           0.00000        171.578751         163   \n",
       "17                  0           0.00000        121.303200          38   \n",
       "18                  0        2075.79688       3471.429000         264   \n",
       "19                  0           0.00000        145.861200          73   \n",
       "20                  0           0.00000        219.722229           0   \n",
       "21                  0           0.00000         33.196550          39   \n",
       "22                  0           0.00000       1523.582000         152   \n",
       "23                  0        3372.03931       2019.123290          80   \n",
       "24                  0           0.00000         54.819260          10   \n",
       "25                  0           0.00000        135.241058         150   \n",
       "26                  0        1350.01855       2676.393550         200   \n",
       "27                  0           0.00000        721.315369         218   \n",
       "28                  0           0.00000          0.000000           0   \n",
       "29                  0           0.00000        149.398392          89   \n",
       "...               ...               ...               ...         ...   \n",
       "19970               0           0.00000        174.128632          79   \n",
       "19971               0           0.00000        108.647263          27   \n",
       "19972               1        2848.15771       3426.577150         270   \n",
       "19973               1           0.00000        394.146759          26   \n",
       "19974               0        3292.92285       1193.237790         121   \n",
       "19975               0           0.00000         64.079460          45   \n",
       "19976               0        2453.14258       3413.432860          17   \n",
       "19977               0           0.00000         11.670227           0   \n",
       "19978               0           0.00000        491.544500         140   \n",
       "19979               0           0.00000       2657.885740         317   \n",
       "19980               0           0.00000        228.378300          87   \n",
       "19981               0           0.00000        636.173035           0   \n",
       "19982               0        2933.16431       1058.851680           0   \n",
       "19983               0           0.00000       1457.123170           0   \n",
       "19984               0           0.00000        953.050800           0   \n",
       "19985               1        4258.44700       2484.012210         503   \n",
       "19986               1           0.00000         91.591910          21   \n",
       "19987               0           0.00000       2692.150000          62   \n",
       "19988               0           0.00000        378.924200           0   \n",
       "19989               0           0.00000        198.774000          79   \n",
       "19990               0           0.00000       1880.230350          65   \n",
       "19991               0        1042.00647        294.837100           0   \n",
       "19992               0           0.00000        398.544342           0   \n",
       "19993               0           0.00000        546.165300           0   \n",
       "19994               0        4365.29443       2619.031000         196   \n",
       "19995               0        5564.11800       1081.568240           0   \n",
       "19996               0        2478.78174       5070.031250           0   \n",
       "19997               0        2863.72949       2316.975000         441   \n",
       "19998               0           0.00000         43.576553           0   \n",
       "19999               0           0.00000         74.237870          20   \n",
       "\n",
       "       player_kills       player_name  player_survive_time  team_placement  \\\n",
       "0                 2       Raymond0512             1637.775               8   \n",
       "1                 0   biedawtiouxiang             1447.402              15   \n",
       "2                 2         SlippyDip              869.902              32   \n",
       "3                 0         M_bl_Jl_o              164.052              74   \n",
       "4                 0          Ipocampo              874.838              90   \n",
       "5                 2            Cong_x             1372.209              14   \n",
       "6                 0        Slayer1583             1086.885              24   \n",
       "7                 2     Cigarette_Kai              182.036              63   \n",
       "8                 0        YUskinbaba              117.720              94   \n",
       "9                 0          UongBi89               79.111              91   \n",
       "10                0     HEFUIKEHRKGJR              573.120              40   \n",
       "11                0         Misprince              313.123              52   \n",
       "12                0     BigbossLin521              756.340              30   \n",
       "13                0             yz135               76.687              92   \n",
       "14                0          4SHES0_0              363.384              48   \n",
       "15                1       liaozhimeng              694.249              32   \n",
       "16                1           ayuojun              316.698              51   \n",
       "17                0             mm980              191.484              59   \n",
       "18                1        Sisaebalki             1693.385               6   \n",
       "19                0       Bin-Captain              175.153              64   \n",
       "20                0        Trouble991              189.410              60   \n",
       "21                0    TheDecisiveFox              103.555              84   \n",
       "22                1            BlIilL              796.659              29   \n",
       "23                0       xiaobai0906             1696.052               5   \n",
       "24                0       xXSirLordXx               90.485              89   \n",
       "25                1             Soax_              164.482              69   \n",
       "26                2         BaoPiWang             1260.438              18   \n",
       "27                2    Alexey_Shatrov              450.321              44   \n",
       "28                0        Barfbag440              118.689              79   \n",
       "29                0          Zigggy18              148.273              73   \n",
       "...             ...               ...                  ...             ...   \n",
       "19970             0            coldat              237.346              57   \n",
       "19971             0         jizuoping              168.855              63   \n",
       "19972             3            GZG896             1760.899               5   \n",
       "19973             0          Edison85              241.624              55   \n",
       "19974             1         JUNE7JUNE             1635.936              10   \n",
       "19975             0         adgdasgha              147.059              66   \n",
       "19976             0        ZMEI-8-8-8             1824.003               4   \n",
       "19977             0         Chennelyn              142.831              67   \n",
       "19978             1       BillsFather              390.806              48   \n",
       "19979             3           Mr-Pigz             1469.633              15   \n",
       "19980             0      AoiYuiSenpai              206.665              60   \n",
       "19981             0         sh00kones              317.178              51   \n",
       "19982             0       chijijibaba              714.266              38   \n",
       "19983             0       nickname831              740.658              37   \n",
       "19984             0           dan2112              563.899              44   \n",
       "19985             5             cykez             1637.914               9   \n",
       "19986             0   NutmeggerBarber              139.393              69   \n",
       "19987             0        xiao850606             1066.935              28   \n",
       "19988             0      fumingyu2016              523.829              46   \n",
       "19989             1             SsZz-              252.803              53   \n",
       "19990             0       DestinyALEX              571.370              48   \n",
       "19991             0     JohanTheFirst              360.165              58   \n",
       "19992             0         seven-cr7              825.787              32   \n",
       "19993             0  WhiffleBall_Tony              253.724              63   \n",
       "19994             2        BBQ-BOOM-1             1403.556              15   \n",
       "19995             0       Mr__Penguin             1180.666              18   \n",
       "19996             0          FGFGASFD             1645.824               7   \n",
       "19997             4            KYSiii             1517.717              11   \n",
       "19998             0     musheweiliang              112.829              88   \n",
       "19999             0         TTBKuConz              121.014              86   \n",
       "\n",
       "       Success  \n",
       "0            5  \n",
       "1            0  \n",
       "2            1  \n",
       "3            3  \n",
       "4            4  \n",
       "5            0  \n",
       "6            1  \n",
       "7            3  \n",
       "8            4  \n",
       "9            4  \n",
       "10           2  \n",
       "11           2  \n",
       "12           1  \n",
       "13           4  \n",
       "14           2  \n",
       "15           1  \n",
       "16           2  \n",
       "17           2  \n",
       "18           5  \n",
       "19           3  \n",
       "20           3  \n",
       "21           4  \n",
       "22           1  \n",
       "23           5  \n",
       "24           4  \n",
       "25           3  \n",
       "26           0  \n",
       "27           2  \n",
       "28           3  \n",
       "29           3  \n",
       "...        ...  \n",
       "19970        2  \n",
       "19971        3  \n",
       "19972        5  \n",
       "19973        2  \n",
       "19974        0  \n",
       "19975        3  \n",
       "19976        6  \n",
       "19977        3  \n",
       "19978        2  \n",
       "19979        0  \n",
       "19980        3  \n",
       "19981        2  \n",
       "19982        1  \n",
       "19983        1  \n",
       "19984        2  \n",
       "19985        5  \n",
       "19986        3  \n",
       "19987        1  \n",
       "19988        2  \n",
       "19989        2  \n",
       "19990        2  \n",
       "19991        2  \n",
       "19992        1  \n",
       "19993        3  \n",
       "19994        0  \n",
       "19995        0  \n",
       "19996        5  \n",
       "19997        0  \n",
       "19998        4  \n",
       "19999        4  \n",
       "\n",
       "[20000 rows x 9 columns]"
      ]
     },
     "execution_count": 36,
     "metadata": {},
     "output_type": "execute_result"
    }
   ],
   "source": [
    "testtyped"
   ]
  },
  {
   "cell_type": "code",
   "execution_count": 37,
   "metadata": {
    "collapsed": true
   },
   "outputs": [],
   "source": [
    "testin = testtyped[[\"player_assists\", \"player_dist_walk\", \"player_dist_ride\", \"player_dmg\", \"player_kills\"]]\n",
    "testreal = testtyped[\"Success\"]"
   ]
  },
  {
   "cell_type": "code",
   "execution_count": 38,
   "metadata": {
    "collapsed": true
   },
   "outputs": [],
   "source": [
    "testresult = Classifier.predict(testin)"
   ]
  },
  {
   "cell_type": "code",
   "execution_count": 39,
   "metadata": {
    "collapsed": true
   },
   "outputs": [],
   "source": [
    "from sklearn.metrics import classification_report"
   ]
  },
  {
   "cell_type": "code",
   "execution_count": 40,
   "metadata": {},
   "outputs": [
    {
     "data": {
      "text/plain": [
       "['1stQuarter',\n",
       " '2ndQuarter',\n",
       " '3rdQuarter',\n",
       " '4thQuarter',\n",
       " '5thQuarter',\n",
       " 'Top10',\n",
       " 'Top5',\n",
       " 'Winner']"
      ]
     },
     "execution_count": 40,
     "metadata": {},
     "output_type": "execute_result"
    }
   ],
   "source": [
    "targetnames = []\n",
    "for i in range(0, 8):\n",
    "    targetnames.append(le.inverse_transform(i))\n",
    "targetnames"
   ]
  },
  {
   "cell_type": "code",
   "execution_count": 129,
   "metadata": {},
   "outputs": [
    {
     "name": "stdout",
     "output_type": "stream",
     "text": [
      "             precision    recall  f1-score   support\n",
      "\n",
      " 1stQuarter       0.32      0.32      0.32      2124\n",
      " 2ndQuarter       0.47      0.46      0.47      4082\n",
      " 3rdQuarter       0.52      0.51      0.52      4365\n",
      " 4thQuarter       0.54      0.54      0.54      4293\n",
      " 5thQuarter       0.67      0.71      0.69      3181\n",
      "      Top10       0.20      0.20      0.20      1081\n",
      "       Top5       0.20      0.21      0.21       653\n",
      "     Winner       0.24      0.23      0.23       221\n",
      "\n",
      "avg / total       0.49      0.49      0.49     20000\n",
      "\n"
     ]
    }
   ],
   "source": [
    "print(classification_report(testreal, testresult, target_names=targetnames))"
   ]
  },
  {
   "cell_type": "code",
   "execution_count": 131,
   "metadata": {},
   "outputs": [
    {
     "name": "stdout",
     "output_type": "stream",
     "text": [
      "Precision of Decision Tree:  48.655 %\n"
     ]
    }
   ],
   "source": [
    "counter = 0\n",
    "for i in range(0, 20000):\n",
    "    if testreal.iloc[i] == testresult[i]:\n",
    "        counter += 1\n",
    "\n",
    "similarity1 = 100*(counter/20000)\n",
    "print(\"Precision of Decision Tree: \", similarity1, \"%\")"
   ]
  },
  {
   "cell_type": "code",
   "execution_count": 127,
   "metadata": {
    "collapsed": true
   },
   "outputs": [],
   "source": [
    "#from sklearn.tree import export_graphviz\n",
    "\n",
    "\n",
    "#export_graphviz(Classifier, out_file=\"mytree.dot\")\n",
    "#with open(\"mytree.dot\") as f:\n",
    "    #dot_graph = f.read()\n",
    "#graphviz.Source(dot_graph)\n"
   ]
  },
  {
   "cell_type": "code",
   "execution_count": 43,
   "metadata": {
    "collapsed": true
   },
   "outputs": [],
   "source": [
    "from sklearn.ensemble import RandomForestClassifier"
   ]
  },
  {
   "cell_type": "code",
   "execution_count": 66,
   "metadata": {
    "collapsed": true
   },
   "outputs": [],
   "source": [
    "ForestClassifier = RandomForestClassifier(n_estimators = 50)"
   ]
  },
  {
   "cell_type": "code",
   "execution_count": 67,
   "metadata": {},
   "outputs": [
    {
     "data": {
      "text/plain": [
       "RandomForestClassifier(bootstrap=True, class_weight=None, criterion='gini',\n",
       "            max_depth=None, max_features='auto', max_leaf_nodes=None,\n",
       "            min_impurity_decrease=0.0, min_impurity_split=None,\n",
       "            min_samples_leaf=1, min_samples_split=2,\n",
       "            min_weight_fraction_leaf=0.0, n_estimators=50, n_jobs=1,\n",
       "            oob_score=False, random_state=None, verbose=0,\n",
       "            warm_start=False)"
      ]
     },
     "execution_count": 67,
     "metadata": {},
     "output_type": "execute_result"
    }
   ],
   "source": [
    "ForestClassifier.fit(X, Y)"
   ]
  },
  {
   "cell_type": "code",
   "execution_count": 68,
   "metadata": {},
   "outputs": [],
   "source": [
    "forestresult = ForestClassifier.predict(testin)"
   ]
  },
  {
   "cell_type": "code",
   "execution_count": 69,
   "metadata": {},
   "outputs": [
    {
     "data": {
      "text/plain": [
       "array([6, 5, 0, ..., 5, 1, 4], dtype=int64)"
      ]
     },
     "execution_count": 69,
     "metadata": {},
     "output_type": "execute_result"
    }
   ],
   "source": [
    "forestresult"
   ]
  },
  {
   "cell_type": "code",
   "execution_count": 70,
   "metadata": {},
   "outputs": [
    {
     "name": "stdout",
     "output_type": "stream",
     "text": [
      "             precision    recall  f1-score   support\n",
      "\n",
      " 1stQuarter       0.36      0.38      0.37      2124\n",
      " 2ndQuarter       0.52      0.58      0.55      4082\n",
      " 3rdQuarter       0.57      0.56      0.57      4365\n",
      " 4thQuarter       0.57      0.57      0.57      4293\n",
      " 5thQuarter       0.69      0.72      0.70      3181\n",
      "      Top10       0.24      0.17      0.20      1081\n",
      "       Top5       0.24      0.15      0.19       653\n",
      "     Winner       0.38      0.30      0.33       221\n",
      "\n",
      "avg / total       0.53      0.54      0.53     20000\n",
      "\n"
     ]
    }
   ],
   "source": [
    "print(classification_report(testreal, forestresult, target_names=targetnames))"
   ]
  },
  {
   "cell_type": "code",
   "execution_count": 132,
   "metadata": {},
   "outputs": [
    {
     "name": "stdout",
     "output_type": "stream",
     "text": [
      "Precision of Decision Tree:  53.565 %\n"
     ]
    }
   ],
   "source": [
    "counter = 0\n",
    "for i in range(0, 20000):\n",
    "    if testreal.iloc[i] == forestresult[i]:\n",
    "        counter += 1\n",
    "\n",
    "similarity2 = 100*(counter/20000)\n",
    "print(\"Precision of Decision Tree: \", similarity, \"%\")"
   ]
  },
  {
   "cell_type": "code",
   "execution_count": 72,
   "metadata": {
    "collapsed": true
   },
   "outputs": [],
   "source": [
    "f_importances = ForestClassifier.feature_importances_"
   ]
  },
  {
   "cell_type": "code",
   "execution_count": 73,
   "metadata": {},
   "outputs": [
    {
     "data": {
      "text/plain": [
       "array([ 0.00812191,  0.66089732,  0.14439204,  0.16001618,  0.02657255])"
      ]
     },
     "execution_count": 73,
     "metadata": {},
     "output_type": "execute_result"
    }
   ],
   "source": [
    "f_importances"
   ]
  },
  {
   "cell_type": "code",
   "execution_count": 74,
   "metadata": {
    "collapsed": true
   },
   "outputs": [],
   "source": [
    "t_importances = Classifier.feature_importances_"
   ]
  },
  {
   "cell_type": "code",
   "execution_count": 75,
   "metadata": {},
   "outputs": [
    {
     "data": {
      "text/plain": [
       "array([ 0.01079517,  0.68526772,  0.12152724,  0.15636679,  0.02604308])"
      ]
     },
     "execution_count": 75,
     "metadata": {},
     "output_type": "execute_result"
    }
   ],
   "source": [
    "t_importances"
   ]
  },
  {
   "cell_type": "code",
   "execution_count": 116,
   "metadata": {},
   "outputs": [],
   "source": [
    "importances = pd.DataFrame({'Technique': [],\n",
    "                            'Player_Assists': [],\n",
    "                            'Distance_Walked': [],\n",
    "                            'Distance_Ride': [],\n",
    "                            'Damage Given':[],\n",
    "                            'Kills': []\n",
    "                           })\n",
    "\n",
    "slice1 = pd.DataFrame({ 'Technique': [\"Decision Tree\"],\n",
    "                        'Player_Assists': [t_importances[0]],\n",
    "                        'Distance_Walked': [t_importances[1]],\n",
    "                        'Distance_Ride': [t_importances[2]],\n",
    "                        'Damage Given':[t_importances[3]],\n",
    "                        'Kills': [t_importances[4]]\n",
    "                           })\n",
    "\n",
    "slice2 = pd.DataFrame({ 'Technique': [\"Random Forest\"],\n",
    "                        'Player_Assists': [f_importances[0]],\n",
    "                        'Distance_Walked': [f_importances[1]],\n",
    "                        'Distance_Ride': [f_importances[2]],\n",
    "                        'Damage Given':[f_importances[3]],\n",
    "                        'Kills': [f_importances[4]]\n",
    "                           })"
   ]
  },
  {
   "cell_type": "code",
   "execution_count": 122,
   "metadata": {},
   "outputs": [
    {
     "data": {
      "text/html": [
       "<div>\n",
       "<style>\n",
       "    .dataframe thead tr:only-child th {\n",
       "        text-align: right;\n",
       "    }\n",
       "\n",
       "    .dataframe thead th {\n",
       "        text-align: left;\n",
       "    }\n",
       "\n",
       "    .dataframe tbody tr th {\n",
       "        vertical-align: top;\n",
       "    }\n",
       "</style>\n",
       "<table border=\"1\" class=\"dataframe\">\n",
       "  <thead>\n",
       "    <tr style=\"text-align: right;\">\n",
       "      <th></th>\n",
       "      <th>Damage Given</th>\n",
       "      <th>Distance_Ride</th>\n",
       "      <th>Distance_Walked</th>\n",
       "      <th>Kills</th>\n",
       "      <th>Player_Assists</th>\n",
       "      <th>Technique</th>\n",
       "    </tr>\n",
       "  </thead>\n",
       "  <tbody>\n",
       "    <tr>\n",
       "      <th>0</th>\n",
       "      <td>0.160016</td>\n",
       "      <td>0.144392</td>\n",
       "      <td>0.660897</td>\n",
       "      <td>0.026573</td>\n",
       "      <td>0.008122</td>\n",
       "      <td>Random Forest</td>\n",
       "    </tr>\n",
       "  </tbody>\n",
       "</table>\n",
       "</div>"
      ],
      "text/plain": [
       "   Damage Given  Distance_Ride  Distance_Walked     Kills  Player_Assists  \\\n",
       "0      0.160016       0.144392         0.660897  0.026573        0.008122   \n",
       "\n",
       "       Technique  \n",
       "0  Random Forest  "
      ]
     },
     "execution_count": 122,
     "metadata": {},
     "output_type": "execute_result"
    }
   ],
   "source": [
    "slice2"
   ]
  },
  {
   "cell_type": "code",
   "execution_count": 124,
   "metadata": {},
   "outputs": [],
   "source": [
    "importances = importances.append(slice1)\n",
    "importances = importances.append(slice2)"
   ]
  },
  {
   "cell_type": "code",
   "execution_count": 125,
   "metadata": {},
   "outputs": [
    {
     "data": {
      "text/html": [
       "<div>\n",
       "<style>\n",
       "    .dataframe thead tr:only-child th {\n",
       "        text-align: right;\n",
       "    }\n",
       "\n",
       "    .dataframe thead th {\n",
       "        text-align: left;\n",
       "    }\n",
       "\n",
       "    .dataframe tbody tr th {\n",
       "        vertical-align: top;\n",
       "    }\n",
       "</style>\n",
       "<table border=\"1\" class=\"dataframe\">\n",
       "  <thead>\n",
       "    <tr style=\"text-align: right;\">\n",
       "      <th></th>\n",
       "      <th>Damage Given</th>\n",
       "      <th>Distance_Ride</th>\n",
       "      <th>Distance_Walked</th>\n",
       "      <th>Kills</th>\n",
       "      <th>Player_Assists</th>\n",
       "      <th>Technique</th>\n",
       "    </tr>\n",
       "  </thead>\n",
       "  <tbody>\n",
       "    <tr>\n",
       "      <th>0</th>\n",
       "      <td>0.156367</td>\n",
       "      <td>0.121527</td>\n",
       "      <td>0.685268</td>\n",
       "      <td>0.026043</td>\n",
       "      <td>0.010795</td>\n",
       "      <td>Decision Tree</td>\n",
       "    </tr>\n",
       "    <tr>\n",
       "      <th>0</th>\n",
       "      <td>0.160016</td>\n",
       "      <td>0.144392</td>\n",
       "      <td>0.660897</td>\n",
       "      <td>0.026573</td>\n",
       "      <td>0.008122</td>\n",
       "      <td>Random Forest</td>\n",
       "    </tr>\n",
       "  </tbody>\n",
       "</table>\n",
       "</div>"
      ],
      "text/plain": [
       "   Damage Given  Distance_Ride  Distance_Walked     Kills  Player_Assists  \\\n",
       "0      0.156367       0.121527         0.685268  0.026043        0.010795   \n",
       "0      0.160016       0.144392         0.660897  0.026573        0.008122   \n",
       "\n",
       "       Technique  \n",
       "0  Decision Tree  \n",
       "0  Random Forest  "
      ]
     },
     "execution_count": 125,
     "metadata": {},
     "output_type": "execute_result"
    }
   ],
   "source": [
    "importances"
   ]
  },
  {
   "cell_type": "code",
   "execution_count": 133,
   "metadata": {},
   "outputs": [
    {
     "data": {
      "text/plain": [
       "[48.655, 53.565]"
      ]
     },
     "execution_count": 133,
     "metadata": {},
     "output_type": "execute_result"
    }
   ],
   "source": [
    "similarities = [similarity1, similarity2]\n",
    "similarities"
   ]
  },
  {
   "cell_type": "code",
   "execution_count": 151,
   "metadata": {},
   "outputs": [
    {
     "ename": "ValueError",
     "evalue": "shape mismatch: objects cannot be broadcast to a single shape",
     "output_type": "error",
     "traceback": [
      "\u001b[1;31m---------------------------------------------------------------------------\u001b[0m",
      "\u001b[1;31mValueError\u001b[0m                                Traceback (most recent call last)",
      "\u001b[1;32m<ipython-input-151-0ff2739252b8>\u001b[0m in \u001b[0;36m<module>\u001b[1;34m()\u001b[0m\n\u001b[0;32m      2\u001b[0m \u001b[1;33m\u001b[0m\u001b[0m\n\u001b[0;32m      3\u001b[0m \u001b[0mD\u001b[0m \u001b[1;33m=\u001b[0m \u001b[1;33m{\u001b[0m\u001b[1;34mu'LabelDecisionTree'\u001b[0m\u001b[1;33m:\u001b[0m\u001b[0msimilarities\u001b[0m\u001b[1;33m[\u001b[0m\u001b[1;36m0\u001b[0m\u001b[1;33m]\u001b[0m\u001b[1;33m,\u001b[0m \u001b[1;34mu'LabelRandomForest'\u001b[0m\u001b[1;33m:\u001b[0m \u001b[0msimilarities\u001b[0m\u001b[1;33m[\u001b[0m\u001b[1;36m1\u001b[0m\u001b[1;33m]\u001b[0m\u001b[1;33m}\u001b[0m\u001b[1;33m\u001b[0m\u001b[0m\n\u001b[1;32m----> 4\u001b[1;33m \u001b[0mplt\u001b[0m\u001b[1;33m.\u001b[0m\u001b[0mbar\u001b[0m\u001b[1;33m(\u001b[0m\u001b[0mrange\u001b[0m\u001b[1;33m(\u001b[0m\u001b[1;36m0\u001b[0m\u001b[1;33m,\u001b[0m\u001b[1;36m100\u001b[0m\u001b[1;33m)\u001b[0m\u001b[1;33m,\u001b[0m \u001b[0mD\u001b[0m\u001b[1;33m.\u001b[0m\u001b[0mvalues\u001b[0m\u001b[1;33m(\u001b[0m\u001b[1;33m)\u001b[0m\u001b[1;33m,\u001b[0m \u001b[0malign\u001b[0m\u001b[1;33m=\u001b[0m\u001b[1;34m'center'\u001b[0m\u001b[1;33m)\u001b[0m\u001b[1;33m\u001b[0m\u001b[0m\n\u001b[0m\u001b[0;32m      5\u001b[0m \u001b[0mplt\u001b[0m\u001b[1;33m.\u001b[0m\u001b[0mxticks\u001b[0m\u001b[1;33m(\u001b[0m\u001b[0mrange\u001b[0m\u001b[1;33m(\u001b[0m\u001b[0mlen\u001b[0m\u001b[1;33m(\u001b[0m\u001b[0mD\u001b[0m\u001b[1;33m)\u001b[0m\u001b[1;33m)\u001b[0m\u001b[1;33m,\u001b[0m \u001b[0mD\u001b[0m\u001b[1;33m.\u001b[0m\u001b[0mkeys\u001b[0m\u001b[1;33m(\u001b[0m\u001b[1;33m)\u001b[0m\u001b[1;33m)\u001b[0m\u001b[1;33m\u001b[0m\u001b[0m\n",
      "\u001b[1;32m~\\Anaconda3\\lib\\site-packages\\matplotlib\\pyplot.py\u001b[0m in \u001b[0;36mbar\u001b[1;34m(*args, **kwargs)\u001b[0m\n\u001b[0;32m   2625\u001b[0m                       mplDeprecation)\n\u001b[0;32m   2626\u001b[0m     \u001b[1;32mtry\u001b[0m\u001b[1;33m:\u001b[0m\u001b[1;33m\u001b[0m\u001b[0m\n\u001b[1;32m-> 2627\u001b[1;33m         \u001b[0mret\u001b[0m \u001b[1;33m=\u001b[0m \u001b[0max\u001b[0m\u001b[1;33m.\u001b[0m\u001b[0mbar\u001b[0m\u001b[1;33m(\u001b[0m\u001b[1;33m*\u001b[0m\u001b[0margs\u001b[0m\u001b[1;33m,\u001b[0m \u001b[1;33m**\u001b[0m\u001b[0mkwargs\u001b[0m\u001b[1;33m)\u001b[0m\u001b[1;33m\u001b[0m\u001b[0m\n\u001b[0m\u001b[0;32m   2628\u001b[0m     \u001b[1;32mfinally\u001b[0m\u001b[1;33m:\u001b[0m\u001b[1;33m\u001b[0m\u001b[0m\n\u001b[0;32m   2629\u001b[0m         \u001b[0max\u001b[0m\u001b[1;33m.\u001b[0m\u001b[0m_hold\u001b[0m \u001b[1;33m=\u001b[0m \u001b[0mwashold\u001b[0m\u001b[1;33m\u001b[0m\u001b[0m\n",
      "\u001b[1;32m~\\Anaconda3\\lib\\site-packages\\matplotlib\\__init__.py\u001b[0m in \u001b[0;36minner\u001b[1;34m(ax, *args, **kwargs)\u001b[0m\n\u001b[0;32m   1708\u001b[0m                     warnings.warn(msg % (label_namer, func.__name__),\n\u001b[0;32m   1709\u001b[0m                                   RuntimeWarning, stacklevel=2)\n\u001b[1;32m-> 1710\u001b[1;33m             \u001b[1;32mreturn\u001b[0m \u001b[0mfunc\u001b[0m\u001b[1;33m(\u001b[0m\u001b[0max\u001b[0m\u001b[1;33m,\u001b[0m \u001b[1;33m*\u001b[0m\u001b[0margs\u001b[0m\u001b[1;33m,\u001b[0m \u001b[1;33m**\u001b[0m\u001b[0mkwargs\u001b[0m\u001b[1;33m)\u001b[0m\u001b[1;33m\u001b[0m\u001b[0m\n\u001b[0m\u001b[0;32m   1711\u001b[0m         \u001b[0mpre_doc\u001b[0m \u001b[1;33m=\u001b[0m \u001b[0minner\u001b[0m\u001b[1;33m.\u001b[0m\u001b[0m__doc__\u001b[0m\u001b[1;33m\u001b[0m\u001b[0m\n\u001b[0;32m   1712\u001b[0m         \u001b[1;32mif\u001b[0m \u001b[0mpre_doc\u001b[0m \u001b[1;32mis\u001b[0m \u001b[1;32mNone\u001b[0m\u001b[1;33m:\u001b[0m\u001b[1;33m\u001b[0m\u001b[0m\n",
      "\u001b[1;32m~\\Anaconda3\\lib\\site-packages\\matplotlib\\axes\\_axes.py\u001b[0m in \u001b[0;36mbar\u001b[1;34m(self, *args, **kwargs)\u001b[0m\n\u001b[0;32m   2079\u001b[0m         x, height, width, y, linewidth = np.broadcast_arrays(\n\u001b[0;32m   2080\u001b[0m             \u001b[1;31m# Make args iterable too.\u001b[0m\u001b[1;33m\u001b[0m\u001b[1;33m\u001b[0m\u001b[0m\n\u001b[1;32m-> 2081\u001b[1;33m             np.atleast_1d(x), height, width, y, linewidth)\n\u001b[0m\u001b[0;32m   2082\u001b[0m \u001b[1;33m\u001b[0m\u001b[0m\n\u001b[0;32m   2083\u001b[0m         \u001b[1;32mif\u001b[0m \u001b[0morientation\u001b[0m \u001b[1;33m==\u001b[0m \u001b[1;34m'vertical'\u001b[0m\u001b[1;33m:\u001b[0m\u001b[1;33m\u001b[0m\u001b[0m\n",
      "\u001b[1;32m~\\Anaconda3\\lib\\site-packages\\numpy\\lib\\stride_tricks.py\u001b[0m in \u001b[0;36mbroadcast_arrays\u001b[1;34m(*args, **kwargs)\u001b[0m\n\u001b[0;32m    247\u001b[0m     \u001b[0margs\u001b[0m \u001b[1;33m=\u001b[0m \u001b[1;33m[\u001b[0m\u001b[0mnp\u001b[0m\u001b[1;33m.\u001b[0m\u001b[0marray\u001b[0m\u001b[1;33m(\u001b[0m\u001b[0m_m\u001b[0m\u001b[1;33m,\u001b[0m \u001b[0mcopy\u001b[0m\u001b[1;33m=\u001b[0m\u001b[1;32mFalse\u001b[0m\u001b[1;33m,\u001b[0m \u001b[0msubok\u001b[0m\u001b[1;33m=\u001b[0m\u001b[0msubok\u001b[0m\u001b[1;33m)\u001b[0m \u001b[1;32mfor\u001b[0m \u001b[0m_m\u001b[0m \u001b[1;32min\u001b[0m \u001b[0margs\u001b[0m\u001b[1;33m]\u001b[0m\u001b[1;33m\u001b[0m\u001b[0m\n\u001b[0;32m    248\u001b[0m \u001b[1;33m\u001b[0m\u001b[0m\n\u001b[1;32m--> 249\u001b[1;33m     \u001b[0mshape\u001b[0m \u001b[1;33m=\u001b[0m \u001b[0m_broadcast_shape\u001b[0m\u001b[1;33m(\u001b[0m\u001b[1;33m*\u001b[0m\u001b[0margs\u001b[0m\u001b[1;33m)\u001b[0m\u001b[1;33m\u001b[0m\u001b[0m\n\u001b[0m\u001b[0;32m    250\u001b[0m \u001b[1;33m\u001b[0m\u001b[0m\n\u001b[0;32m    251\u001b[0m     \u001b[1;32mif\u001b[0m \u001b[0mall\u001b[0m\u001b[1;33m(\u001b[0m\u001b[0marray\u001b[0m\u001b[1;33m.\u001b[0m\u001b[0mshape\u001b[0m \u001b[1;33m==\u001b[0m \u001b[0mshape\u001b[0m \u001b[1;32mfor\u001b[0m \u001b[0marray\u001b[0m \u001b[1;32min\u001b[0m \u001b[0margs\u001b[0m\u001b[1;33m)\u001b[0m\u001b[1;33m:\u001b[0m\u001b[1;33m\u001b[0m\u001b[0m\n",
      "\u001b[1;32m~\\Anaconda3\\lib\\site-packages\\numpy\\lib\\stride_tricks.py\u001b[0m in \u001b[0;36m_broadcast_shape\u001b[1;34m(*args)\u001b[0m\n\u001b[0;32m    182\u001b[0m     \u001b[1;31m# use the old-iterator because np.nditer does not handle size 0 arrays\u001b[0m\u001b[1;33m\u001b[0m\u001b[1;33m\u001b[0m\u001b[0m\n\u001b[0;32m    183\u001b[0m     \u001b[1;31m# consistently\u001b[0m\u001b[1;33m\u001b[0m\u001b[1;33m\u001b[0m\u001b[0m\n\u001b[1;32m--> 184\u001b[1;33m     \u001b[0mb\u001b[0m \u001b[1;33m=\u001b[0m \u001b[0mnp\u001b[0m\u001b[1;33m.\u001b[0m\u001b[0mbroadcast\u001b[0m\u001b[1;33m(\u001b[0m\u001b[1;33m*\u001b[0m\u001b[0margs\u001b[0m\u001b[1;33m[\u001b[0m\u001b[1;33m:\u001b[0m\u001b[1;36m32\u001b[0m\u001b[1;33m]\u001b[0m\u001b[1;33m)\u001b[0m\u001b[1;33m\u001b[0m\u001b[0m\n\u001b[0m\u001b[0;32m    185\u001b[0m     \u001b[1;31m# unfortunately, it cannot handle 32 or more arguments directly\u001b[0m\u001b[1;33m\u001b[0m\u001b[1;33m\u001b[0m\u001b[0m\n\u001b[0;32m    186\u001b[0m     \u001b[1;32mfor\u001b[0m \u001b[0mpos\u001b[0m \u001b[1;32min\u001b[0m \u001b[0mrange\u001b[0m\u001b[1;33m(\u001b[0m\u001b[1;36m32\u001b[0m\u001b[1;33m,\u001b[0m \u001b[0mlen\u001b[0m\u001b[1;33m(\u001b[0m\u001b[0margs\u001b[0m\u001b[1;33m)\u001b[0m\u001b[1;33m,\u001b[0m \u001b[1;36m31\u001b[0m\u001b[1;33m)\u001b[0m\u001b[1;33m:\u001b[0m\u001b[1;33m\u001b[0m\u001b[0m\n",
      "\u001b[1;31mValueError\u001b[0m: shape mismatch: objects cannot be broadcast to a single shape"
     ]
    },
    {
     "data": {
      "image/png": "[encoded data removed]",
      "text/plain": [
       "<matplotlib.figure.Figure at 0x1ecdcbd6ac8>"
      ]
     },
     "metadata": {},
     "output_type": "display_data"
    }
   ],
   "source": [
    "dictionary = plt.figure()\n",
    "\n",
    "D = {u'LabelDecisionTree':similarities[0], u'LabelRandomForest': similarities[1]}\n",
    "plt.bar(range(0,100), D.values(), align='center')\n",
    "plt.xticks(range(len(D)), D.keys())\n"
   ]
  },
  {
   "cell_type": "code",
   "execution_count": 159,
   "metadata": {},
   "outputs": [
    {
     "data": {
      "text/plain": [
       "<matplotlib.axes._subplots.AxesSubplot at 0x1ec2900de48>"
      ]
     },
     "execution_count": 159,
     "metadata": {},
     "output_type": "execute_result"
    },
    {
     "data": {
      "image/png": "[encoded data removed]",
      "text/plain": [
       "<matplotlib.figure.Figure at 0x1ec263ffc18>"
      ]
     },
     "metadata": {},
     "output_type": "display_data"
    }
   ],
   "source": [
    "importances.set_index('Technique')\n",
    "importances.plot(kind=\"bar\",figsize=(16,7),rot=0)"
   ]
  },
  {
   "cell_type": "code",
   "execution_count": 173,
   "metadata": {},
   "outputs": [
    {
     "data": {
      "text/html": [
       "<div>\n",
       "<style>\n",
       "    .dataframe thead tr:only-child th {\n",
       "        text-align: right;\n",
       "    }\n",
       "\n",
       "    .dataframe thead th {\n",
       "        text-align: left;\n",
       "    }\n",
       "\n",
       "    .dataframe tbody tr th {\n",
       "        vertical-align: top;\n",
       "    }\n",
       "</style>\n",
       "<table border=\"1\" class=\"dataframe\">\n",
       "  <thead>\n",
       "    <tr style=\"text-align: right;\">\n",
       "      <th></th>\n",
       "      <th>Damage Given</th>\n",
       "      <th>Distance_Ride</th>\n",
       "      <th>Distance_Walked</th>\n",
       "      <th>Kills</th>\n",
       "      <th>Player_Assists</th>\n",
       "    </tr>\n",
       "    <tr>\n",
       "      <th>Technique</th>\n",
       "      <th></th>\n",
       "      <th></th>\n",
       "      <th></th>\n",
       "      <th></th>\n",
       "      <th></th>\n",
       "    </tr>\n",
       "  </thead>\n",
       "  <tbody>\n",
       "    <tr>\n",
       "      <th>Decision Tree</th>\n",
       "      <td>0.156367</td>\n",
       "      <td>0.121527</td>\n",
       "      <td>0.685268</td>\n",
       "      <td>0.026043</td>\n",
       "      <td>0.010795</td>\n",
       "    </tr>\n",
       "    <tr>\n",
       "      <th>Random Forest</th>\n",
       "      <td>0.160016</td>\n",
       "      <td>0.144392</td>\n",
       "      <td>0.660897</td>\n",
       "      <td>0.026573</td>\n",
       "      <td>0.008122</td>\n",
       "    </tr>\n",
       "  </tbody>\n",
       "</table>\n",
       "</div>"
      ],
      "text/plain": [
       "               Damage Given  Distance_Ride  Distance_Walked     Kills  \\\n",
       "Technique                                                               \n",
       "Decision Tree      0.156367       0.121527         0.685268  0.026043   \n",
       "Random Forest      0.160016       0.144392         0.660897  0.026573   \n",
       "\n",
       "               Player_Assists  \n",
       "Technique                      \n",
       "Decision Tree        0.010795  \n",
       "Random Forest        0.008122  "
      ]
     },
     "execution_count": 173,
     "metadata": {},
     "output_type": "execute_result"
    }
   ],
   "source": [
    "importances.set_index('Technique')"
   ]
  },
  {
   "cell_type": "code",
   "execution_count": 182,
   "metadata": {},
   "outputs": [
    {
     "data": {
      "text/plain": [
       "<matplotlib.axes._subplots.AxesSubplot at 0x1edc59a2e48>"
      ]
     },
     "execution_count": 182,
     "metadata": {},
     "output_type": "execute_result"
    },
    {
     "data": {
      "image/png": "[encoded data removed]",
      "text/plain": [
       "<matplotlib.figure.Figure at 0x1edc594a8d0>"
      ]
     },
     "metadata": {},
     "output_type": "display_data"
    }
   ],
   "source": [
    "ticks = (\"Decision Tree\", \"Random Forest\")\n",
    "importances.plot(kind=\"bar\",figsize=(14,7),stacked=True)"
   ]
  },
  {
   "cell_type": "code",
   "execution_count": 185,
   "metadata": {},
   "outputs": [
    {
     "data": {
      "text/plain": [
       "<matplotlib.axes._subplots.AxesSubplot at 0x1edc63d51d0>"
      ]
     },
     "execution_count": 185,
     "metadata": {},
     "output_type": "execute_result"
    },
    {
     "data": {
      "image/png": "[encoded data removed]",
      "text/plain": [
       "<matplotlib.figure.Figure at 0x1edc638a8d0>"
      ]
     },
     "metadata": {},
     "output_type": "display_data"
    }
   ],
   "source": [
    "similarities1 = pd.DataFrame(data=similarities)\n",
    "similarities1.plot(kind=\"bar\",figsize=(14,7))"
   ]
  },
  {
   "cell_type": "code",
   "execution_count": null,
   "metadata": {
    "collapsed": true
   },
   "outputs": [],
   "source": []
  }
 ],
 "metadata": {
  "kernelspec": {
   "display_name": "Python 3",
   "language": "python",
   "name": "python3"
  },
  "language_info": {
   "codemirror_mode": {
    "name": "ipython",
    "version": 3
   },
   "file_extension": ".py",
   "mimetype": "text/x-python",
   "name": "python",
   "nbconvert_exporter": "python",
   "pygments_lexer": "ipython3",
   "version": "3.6.3"
  }
 },
 "nbformat": 4,
 "nbformat_minor": 2
}
